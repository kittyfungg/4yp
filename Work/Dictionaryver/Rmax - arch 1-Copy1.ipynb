{
 "cells": [
  {
   "cell_type": "code",
   "execution_count": 1,
   "id": "bb72619d",
   "metadata": {},
   "outputs": [],
   "source": [
    "import matplotlib.pyplot as plt\n",
    "import numpy as np\n",
    "import math\n",
    "import torch\n",
    "import random\n",
    "\n",
    "from tqdm import tqdm\n",
    "device = torch.device(\"cuda:0\" if torch.cuda.is_available() else \"cpu\")\n",
    "\n",
    "import gym\n",
    "from gym.spaces import Discrete, Tuple\n",
    "\n",
    "from env_mp_1 import MetaGames\n",
    "from rmax_1 import RmaxAgent, Memory\n",
    "\n",
    "def discretize(number, radius):\n",
    "    #return (torch.round(torch.div(number, radius))) * radius\n",
    "    #change made: originally: [0,3,6,9], now: [0,1,2,3]\n",
    "    return torch.round(torch.div(number, radius))\n"
   ]
  },
  {
   "cell_type": "code",
   "execution_count": 2,
   "id": "f73f79a8",
   "metadata": {},
   "outputs": [],
   "source": [
    "inner_gamma = 0.9         #inner game discount factor\n",
    "meta_gamma = 0.9          #meta game discount factor\n",
    "meta_alpha = 0.4          #meta game learning rate\n",
    "R_max = 0.98\n",
    "max_meta_epi = 500\n",
    "max_meta_steps = 100\n",
    "\n",
    "epsilon = 0.2\n",
    "radius = 3                #radius for discretization, assuming radius>1\n",
    "\n",
    "#reward tensor for plotting purposes [episode, step, agents]\n",
    "plot_rew = torch.zeros(max_meta_epi, max_meta_steps, 2).to(device)    \n",
    "\n",
    "# creating environment\n",
    "env = MetaGames(\"NL\", \"IPD\")\n",
    "\n",
    "memory = Memory()\n",
    "rmax = RmaxAgent(env, R_max, meta_gamma, inner_gamma, radius, epsilon)"
   ]
  },
  {
   "cell_type": "code",
   "execution_count": 24,
   "id": "3c137f83",
   "metadata": {
    "collapsed": true
   },
   "outputs": [
    {
     "name": "stderr",
     "output_type": "stream",
     "text": [
      "  0%|                                                                      | 0/500 [00:00<?, ?it/s]"
     ]
    },
    {
     "name": "stdout",
     "output_type": "stream",
     "text": [
      "Unexpected exception formatting exception. Falling back to standard exception\n"
     ]
    },
    {
     "name": "stderr",
     "output_type": "stream",
     "text": [
      "\n",
      "Traceback (most recent call last):\n",
      "  File \"/data/engs-oxfair3/kittymfos/lib/python3.8/site-packages/IPython/core/interactiveshell.py\", line 3433, in run_code\n",
      "    exec(code_obj, self.user_global_ns, self.user_ns)\n",
      "  File \"/tmp/ipykernel_387114/1640225908.py\", line 53, in <module>\n",
      "    rmax.update(env, memory, meta_s, meta_a, new_meta_s)\n",
      "  File \"/home/magd5245/Desktop/Work/Dictionaryver/rmax_1.py\", line 104, in update\n",
      "KeyError: 32\n",
      "\n",
      "During handling of the above exception, another exception occurred:\n",
      "\n",
      "Traceback (most recent call last):\n",
      "  File \"/data/engs-oxfair3/kittymfos/lib/python3.8/site-packages/IPython/core/interactiveshell.py\", line 2052, in showtraceback\n",
      "    stb = self.InteractiveTB.structured_traceback(\n",
      "  File \"/data/engs-oxfair3/kittymfos/lib/python3.8/site-packages/IPython/core/ultratb.py\", line 1112, in structured_traceback\n",
      "    return FormattedTB.structured_traceback(\n",
      "  File \"/data/engs-oxfair3/kittymfos/lib/python3.8/site-packages/IPython/core/ultratb.py\", line 1006, in structured_traceback\n",
      "    return VerboseTB.structured_traceback(\n",
      "  File \"/data/engs-oxfair3/kittymfos/lib/python3.8/site-packages/IPython/core/ultratb.py\", line 859, in structured_traceback\n",
      "    formatted_exception = self.format_exception_as_a_whole(etype, evalue, etb, number_of_lines_of_context,\n",
      "  File \"/data/engs-oxfair3/kittymfos/lib/python3.8/site-packages/IPython/core/ultratb.py\", line 812, in format_exception_as_a_whole\n",
      "    frames.append(self.format_record(r))\n",
      "  File \"/data/engs-oxfair3/kittymfos/lib/python3.8/site-packages/IPython/core/ultratb.py\", line 730, in format_record\n",
      "    result += ''.join(_format_traceback_lines(frame_info.lines, Colors, self.has_colors, lvals))\n",
      "  File \"/data/engs-oxfair3/kittymfos/lib/python3.8/site-packages/stack_data/utils.py\", line 145, in cached_property_wrapper\n",
      "    value = obj.__dict__[self.func.__name__] = self.func(obj)\n",
      "  File \"/data/engs-oxfair3/kittymfos/lib/python3.8/site-packages/stack_data/core.py\", line 698, in lines\n",
      "    pieces = self.included_pieces\n",
      "  File \"/data/engs-oxfair3/kittymfos/lib/python3.8/site-packages/stack_data/utils.py\", line 145, in cached_property_wrapper\n",
      "    value = obj.__dict__[self.func.__name__] = self.func(obj)\n",
      "  File \"/data/engs-oxfair3/kittymfos/lib/python3.8/site-packages/stack_data/core.py\", line 649, in included_pieces\n",
      "    pos = scope_pieces.index(self.executing_piece)\n",
      "  File \"/data/engs-oxfair3/kittymfos/lib/python3.8/site-packages/stack_data/utils.py\", line 145, in cached_property_wrapper\n",
      "    value = obj.__dict__[self.func.__name__] = self.func(obj)\n",
      "  File \"/data/engs-oxfair3/kittymfos/lib/python3.8/site-packages/stack_data/core.py\", line 628, in executing_piece\n",
      "    return only(\n",
      "  File \"/data/engs-oxfair3/kittymfos/lib/python3.8/site-packages/executing/executing.py\", line 164, in only\n",
      "    raise NotOneValueFound('Expected one value, found 0')\n",
      "executing.executing.NotOneValueFound: Expected one value, found 0\n"
     ]
    }
   ],
   "source": [
    "for episode in tqdm(range(max_meta_epi)): #for each meta-episode\n",
    "    #initialise meta-state and meta-action randomly\n",
    "    meta_s = rmax.index_to_table(env, random.randint(0, rmax.meta_size * env.num_agents), env.num_agents)\n",
    "    memory.states.append(meta_s) \n",
    "    \n",
    "    for step in range(max_meta_steps):    #for each meta time step\n",
    "        #previous meta-state set as the policy of the next game\n",
    "        env.innerq = meta_s.detach().clone() #\n",
    "        #--------------------------------------START OF INNER GAME--------------------------------------\n",
    "        #reset environment \n",
    "        env.reset()   \n",
    "\n",
    "        #select inner-action with epsilon greedy \n",
    "        best_action = env.select_action().detach().clone()      \n",
    "\n",
    "        #run inner game according to best_action\n",
    "        reward, info = env.step(best_action)  \n",
    "\n",
    "        #update inner r matrix [agent, action]\n",
    "        env.innerr[0, int(best_action[0])] = reward.detach().clone() \n",
    "        env.innerr[1, int(best_action[1])] = info.detach().clone()\n",
    "\n",
    "        #---------------------------------------END OF INNER GAME--------------------------------------\n",
    "        #save reward, info for plotting              \n",
    "        plot_rew[episode,step,0] += reward.detach().clone()\n",
    "        plot_rew[episode,step,1] += info.detach().clone()\n",
    "        \n",
    "        #meta-action = inner game Q table of our agent\n",
    "        meta_a = env.innerq[0, :].detach().clone()\n",
    "        memory.actions.append(meta_a) \n",
    "        \n",
    "        #Compute new inner Q table, our agent: by Q learning, oppo: max of Q table by putting in previous meta-s\n",
    "        env.innerq[0, :] = meta_alpha * env.innerq[0, :] + (1 - meta_alpha) * env.innerq[0, :]\n",
    "        \n",
    "        stateind_arr = [i for i,x in enumerate(rmax.Q.get(\"state\")) if x == rmax.find_meta_index(torch.flatten(meta_s))]  \n",
    "        if len(stateind_arr) == 0:        #if we haven't visited that meta_s before & no record, \n",
    "            #we put random meta_action as inner Q\n",
    "            env.innerq[1, :] = rmax.index_to_table(env, random.randint(0, rmax.meta_size), 1)  \n",
    "        else:                             #else if we visited that meta_s before\n",
    "            #inner Q is the action that corresponds to max Q(meta_s)\n",
    "            env.innerq[1, :] = rmax.index_to_table(env, int(np.max([rmax.Q.get(\"state\")[i] for i in stateind_arr])), 1)    \n",
    "        \n",
    "        #meta-state = discretized inner game Q table of all agents\n",
    "        new_meta_s = discretize(env.innerq.detach().clone(), radius)\n",
    "        memory.states.append(new_meta_s)    \n",
    "        \n",
    "        #meta-reward = sum of rewards of our agent in inner game of K episodes & T timesteps\n",
    "        our_REW = reward.detach().clone()                \n",
    "        memory.rewards.append(reward)\n",
    "        \n",
    "        #rmax update step\n",
    "        rmax.update(env, memory, meta_s, meta_a, new_meta_s)\n",
    "\n",
    "        #prepare meta_s for next step\n",
    "        meta_s = new_meta_s.detach().clone()\n"
   ]
  },
  {
   "cell_type": "code",
   "execution_count": 25,
   "id": "d9e006b6",
   "metadata": {},
   "outputs": [
    {
     "data": {
      "text/plain": [
       "(tensor([[6., 3.],\n",
       "         [3., 0.]]),\n",
       " tensor([6., 3.]),\n",
       " tensor([[2., 1.],\n",
       "         [4., 1.]]))"
      ]
     },
     "execution_count": 25,
     "metadata": {},
     "output_type": "execute_result"
    }
   ],
   "source": [
    "meta_s, meta_a, new_meta_s"
   ]
  },
  {
   "cell_type": "code",
   "execution_count": null,
   "id": "60205371",
   "metadata": {},
   "outputs": [],
   "source": [
    "state_mapped = self.find_meta_index( torch.flatten(state))\n",
    "action_mapped = self.find_meta_index( torch.flatten(action))\n",
    "next_state_mapped = self.find_meta_index( torch.flatten(next_state))\n",
    "\n",
    "pair_index = self.find_pair_index([state_mapped, action_mapped], self.nSA)\n",
    "pairs_index = self.find_pair_index([state_mapped, action_mapped, next_state_mapped], self.nSAS)\n",
    "\n",
    "if self.nSA[state_mapped][action_mapped] < self.m:\n",
    "    #update nSA dictionary \n",
    "    self.nSA.get(\"state\").append(state_mapped)\n",
    "    self.nSA.get(\"action\").append(action_mapped)\n",
    "    self.nSA.get(\"nval\").append(self.nSA.get(\"nval\")[pair_index] + 1)\n",
    "    #update R dictionary          \n",
    "    self.R.get(\"state\").append(state_mapped)\n",
    "    self.R.get(\"action\").append(action_mapped)\n",
    "    self.R.get(\"Rval\").append(self.R.get(\"Rval\")[pair_index] + memory.rewards[-1])  \n",
    "    #update nSAS dictionary\n",
    "    self.nSAS.get(\"state\").append(state_mapped)\n",
    "    self.nSAS.get(\"action\").append(action_mapped)\n",
    "    self.nSAS.get(\"next_state\").append(next_state_mapped)\n",
    "    self.nSAS.get(\"nvals\").append(self.nSAS.get(\"nvals\")[pairs_index] + 1)\n",
    "\n",
    "    if self.nSA.get(\"nval\")[pair_index] == self.m:\n",
    "\n",
    "        for mval in range(self.m):\n",
    "\n",
    "            for s in range(self.meta_size * 2):\n",
    "\n",
    "                for a in range(self.meta_size):\n",
    "                    #find indices that have been visited for at least m times\n",
    "                    bigger_m_ind = [i for i,x in enumerate(len(self.nSA.get(\"nval\"))) if x >= self.m]\n",
    "\n",
    "                    for ind in bigger_m_ind:   \n",
    "                        q = (self.R.get(\"Rval\")[ind] / self.nSA.get(\"nval\")[ind])\n",
    "\n",
    "                        for next_s in range(env.d * 2):\n",
    "                            transition = self.nSAS.get(\"nvals\")[ind] / self.nSA.get(\"nval\")[ind]\n",
    "                            #find state indices that corresponds to next_s\n",
    "                            stateind_arr = [i for i,x in enumerate(self.nSA.get(\"states\")) if x == next_s]\n",
    "\n",
    "                            #if there are Q values that are larger than R_max / (1 - meta_gamma)\n",
    "                            if np.max([self.Q.get(\"Qval\")[states] for states in range(stateind_arr)]) > self.Q0:\n",
    "                                q += transition * np.max([self.Q.get(\"Qval\")[states] for states in range(stateind_arr)])\n",
    "                            #else we use the explore Q value\n",
    "                            else:\n",
    "                                q += self.Q0\n",
    "\n",
    "                        #update Q dicitonary\n",
    "                        Q_pair_index = self.find_pair_index([s, a], self.nSA)  \n",
    "                        self.Q.get(\"state\").append(s)\n",
    "                        self.Q.get(\"action\").append(a)\n",
    "                        self.Q.get(\"Qval\")[Q_pair_index] = q \n",
    "\n",
    "    else:\n",
    "        #update Q dicitonary\n",
    "        self.Q.get(\"state\").append(s)\n",
    "        self.Q.get(\"action\").append(a)\n",
    "        self.Q.get(\"Qval\")[pair_index] = self.Q0\n",
    "\n"
   ]
  },
  {
   "cell_type": "code",
   "execution_count": null,
   "id": "7935f31f",
   "metadata": {},
   "outputs": [],
   "source": []
  },
  {
   "cell_type": "code",
   "execution_count": null,
   "id": "fe408fde",
   "metadata": {},
   "outputs": [],
   "source": []
  },
  {
   "cell_type": "code",
   "execution_count": null,
   "id": "b489cc3e",
   "metadata": {},
   "outputs": [],
   "source": []
  },
  {
   "cell_type": "code",
   "execution_count": null,
   "id": "3c1fedf6",
   "metadata": {},
   "outputs": [],
   "source": []
  },
  {
   "cell_type": "code",
   "execution_count": 26,
   "id": "385de225",
   "metadata": {},
   "outputs": [],
   "source": [
    "self = rmax"
   ]
  },
  {
   "cell_type": "code",
   "execution_count": 5,
   "id": "34c74c39",
   "metadata": {
    "scrolled": true
   },
   "outputs": [
    {
     "name": "stdout",
     "output_type": "stream",
     "text": [
      "Average reward of our agent: tensor(0.4034, device='cuda:0')\n",
      "Average reward of another agent: tensor(0.5966, device='cuda:0')\n"
     ]
    },
    {
     "data": {
      "image/png": "[encoded data removed]",
      "text/plain": [
       "<Figure size 640x480 with 1 Axes>"
      ]
     },
     "metadata": {},
     "output_type": "display_data"
    }
   ],
   "source": [
    "plot_rew_mean_diff = torch.mean(plot_rew[:,:,0],1) - torch.mean(plot_rew[:,:,1],1)\n",
    "fig_handle = plt.plot(plot_rew_mean_diff.cpu().numpy())\n",
    "\n",
    "plt.xlabel(\"episodes\")\n",
    "plt.ylabel(\"difference in mean rewards\")\n",
    "\n",
    "print(\"Average reward of our agent:\", torch.mean(plot_rew[:,:,0],(0,1)))\n",
    "print(\"Average reward of another agent:\", torch.mean(plot_rew[:,:,1],(0,1)))\n",
    "\n",
    "#plt.savefig('radius' + str(radius) + '_' + str(max_meta_epi) + '_' + str(max_meta_steps) + '_pd.png')"
   ]
  },
  {
   "cell_type": "code",
   "execution_count": 7,
   "id": "749ee27d",
   "metadata": {},
   "outputs": [
    {
     "ename": "TypeError",
     "evalue": "list indices must be integers or slices, not tuple",
     "output_type": "error",
     "traceback": [
      "\u001b[0;31m---------------------------------------------------------------------------\u001b[0m",
      "\u001b[0;31mTypeError\u001b[0m                                 Traceback (most recent call last)",
      "Cell \u001b[0;32mIn [7], line 2\u001b[0m\n\u001b[1;32m      1\u001b[0m test\u001b[38;5;241m=\u001b[39m [\u001b[38;5;241m1\u001b[39m,\u001b[38;5;241m73\u001b[39m,\u001b[38;5;241m4\u001b[39m,\u001b[38;5;241m5\u001b[39m,\u001b[38;5;241m2\u001b[39m]\n\u001b[0;32m----> 2\u001b[0m arrr \u001b[38;5;241m=\u001b[39m \u001b[43mtest\u001b[49m\u001b[43m[\u001b[49m\u001b[38;5;241;43m0\u001b[39;49m\u001b[43m,\u001b[49m\u001b[38;5;241;43m1\u001b[39;49m\u001b[43m,\u001b[49m\u001b[38;5;241;43m3\u001b[39;49m\u001b[43m]\u001b[49m\n",
      "\u001b[0;31mTypeError\u001b[0m: list indices must be integers or slices, not tuple"
     ]
    }
   ],
   "source": [
    "test= [1,73,4,5,2]\n",
    "arrr = test[0,1,3]"
   ]
  },
  {
   "cell_type": "code",
   "execution_count": 26,
   "id": "127b6b7c",
   "metadata": {},
   "outputs": [
    {
     "data": {
      "text/plain": [
       "0"
      ]
     },
     "execution_count": 26,
     "metadata": {},
     "output_type": "execute_result"
    }
   ],
   "source": [
    "arrr"
   ]
  },
  {
   "cell_type": "markdown",
   "id": "50c9b547",
   "metadata": {},
   "source": [
    "# OLD VERSION (PLS DELETE IF ABOVE WORKS)"
   ]
  },
  {
   "cell_type": "code",
   "execution_count": null,
   "id": "deeb30bf",
   "metadata": {},
   "outputs": [],
   "source": [
    "for episode in tqdm(range(max_meta_epi)): #for each meta-episode\n",
    "    #initialise meta-state and meta-action as zeros\n",
    "    meta_s = torch.zeros(env.b, env.num_actions, env.num_agents).to(device) \n",
    "    memory.states.append(meta_s)\n",
    "    meta_a = torch.zeros(env.b, env.num_actions).to(device) \n",
    "    memory.actions.append(meta_a)    \n",
    "    \n",
    "    for step in range(max_meta_steps):    #for each meta time step\n",
    "        env.innerq = meta_s.detach().clone()    #previous meta-state set as the policy of the next game\n",
    "        \n",
    "#--------------------------------------INNER GAME--------------------------------------\n",
    "        for epi in range(max_inner_epi):              #for each inner episodes \n",
    "            #print(\"inner episode =\", epi, meta_s)\n",
    "            #state = env.reset()   #reset environment \n",
    "            env.reset()   #reset environment \n",
    "            \n",
    "            for t in range(max_inner_steps):                     #for each inner timestep\n",
    "                #print(\"inner timestep =\", t)\n",
    "                if epi == 0 & t == 0:\n",
    "                    #initialised action \n",
    "                    best_action = env.init_action.detach().clone()\n",
    "                else:\n",
    "                    #find action that has max Q value for current state for both agents\n",
    "                    best_action = env.choose_action()\n",
    "\n",
    "                #run inner game according to that action, for K episodes & T timesteps, output used to be new_state, reward, done, _ \n",
    "                reward, info = env.step(best_action)  \n",
    "                \n",
    "                #update inner r matrix\n",
    "                for i in range(env.b):\n",
    "                    #env.innerr[i, state[i], best_action[0,i], 0] = reward[i] \n",
    "                    #env.innerr[i, state[i], best_action[1,i], 1] = info[i]\n",
    "                    env.innerr[i, best_action[0,i], 0] = reward[i].detach().clone() \n",
    "                    env.innerr[i, best_action[1,i], 1] = info[i].detach().clone()\n",
    "\n",
    "                    \n",
    "                #update inner q matrix, another for loop since have to wait till inner r matrix gets updated    \n",
    "                for i in range(env.b):    \n",
    "                    #env.innerq[i, state[i], best_action[0,i], 0] = env.innerr[i, state[i], best_action[0,i], 0] + inner_gamma * torch.max(env.innerq[i, newstate[i], :, 0]) \n",
    "                    #env.innerq[i, state[i], best_action[1,i], 1] = env.innerr[i, state[i], best_action[1,i], 1] + inner_gamma * torch.max(env.innerq[i, newstate[i], :, 1])\n",
    "                    env.innerq[i, best_action[0,i], 0] = env.innerr[i, best_action[0,i], 0].detach().clone() + inner_gamma * torch.max(env.innerq[i, :, 0]).detach().clone()\n",
    "                    env.innerq[i, best_action[1,i], 1] = env.innerr[i, best_action[1,i], 1].detach().clone() + inner_gamma * torch.max(env.innerq[i, :, 1]).detach().clone()\n",
    "                #set current state = new state\n",
    "                #state = newstate  \n",
    "                \n",
    "                #save reward, info for plotting              \n",
    "                plot_rew[episode,step,0,:] += reward.detach().clone()\n",
    "                plot_rew[episode,step,1,:] += info.detach().clone()\n",
    "        \n",
    "        #meta-state = inner game Q table for all agents\n",
    "        new_meta_s = discretize(env.innerq.detach().clone(), radius)\n",
    "        #meta-action = inner game Q table for our agent\n",
    "#       new_meta_a = discretize(env.innerq[:,:,0].detach().clone(), radius)     \n",
    "        new_meta_a = rmax.select_action(new_meta_s)\n",
    "         \n",
    "        our_REW = reward.detach().clone()                #meta-reward = sum of rewards of our agent in inner game of K episodes & T timesteps\n",
    "        memory.rewards.append(reward)\n",
    "        #print(\"meta step=\", step, meta_s, meta_a, new_meta_s)\n",
    "        rmax.update(env, memory, meta_s, meta_a, new_meta_s)\n",
    "        \n",
    "        meta_s = new_meta_s\n",
    "        meta_a = new_meta_a\n",
    "\n",
    "        \n"
   ]
  }
 ],
 "metadata": {
  "kernelspec": {
   "display_name": "kittymfos",
   "language": "python",
   "name": "kittymfos"
  },
  "language_info": {
   "codemirror_mode": {
    "name": "ipython",
    "version": 3
   },
   "file_extension": ".py",
   "mimetype": "text/x-python",
   "name": "python",
   "nbconvert_exporter": "python",
   "pygments_lexer": "ipython3",
   "version": "3.8.13"
  }
 },
 "nbformat": 4,
 "nbformat_minor": 5
}
