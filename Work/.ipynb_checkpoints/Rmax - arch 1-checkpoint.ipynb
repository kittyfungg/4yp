{
 "cells": [
  {
   "cell_type": "code",
   "execution_count": 1,
   "id": "bb72619d",
   "metadata": {},
   "outputs": [],
   "source": [
    "import numpy as np\n",
    "import math\n",
    "import torch\n",
    "device = torch.device(\"cuda:0\" if torch.cuda.is_available() else \"cpu\")\n",
    "\n",
    "import gym\n",
    "from gym.spaces import Discrete, Tuple\n",
    "\n",
    "from env_ipd import MetaGames\n",
    "from rmax import RmaxAgent, Memory\n",
    "\n",
    "def round_func(number, radius):\n",
    "    return (torch.round(torch.div(number, radius))) * radius"
   ]
  },
  {
   "cell_type": "code",
   "execution_count": 2,
   "id": "f73f79a8",
   "metadata": {},
   "outputs": [
    {
     "ename": "TypeError",
     "evalue": "__init__() takes from 6 to 7 positional arguments but 8 were given",
     "output_type": "error",
     "traceback": [
      "\u001b[0;31m---------------------------------------------------------------------------\u001b[0m",
      "\u001b[0;31mTypeError\u001b[0m                                 Traceback (most recent call last)",
      "Cell \u001b[0;32mIn [2], line 22\u001b[0m\n\u001b[1;32m     19\u001b[0m env \u001b[38;5;241m=\u001b[39m MetaGames(bs, \u001b[38;5;124m\"\u001b[39m\u001b[38;5;124mNL\u001b[39m\u001b[38;5;124m\"\u001b[39m, \u001b[38;5;124m\"\u001b[39m\u001b[38;5;124mIPD\u001b[39m\u001b[38;5;124m\"\u001b[39m)\n\u001b[1;32m     21\u001b[0m memory \u001b[38;5;241m=\u001b[39m Memory()\n\u001b[0;32m---> 22\u001b[0m rmax \u001b[38;5;241m=\u001b[39m \u001b[43mRmaxAgent\u001b[49m\u001b[43m(\u001b[49m\u001b[43menv\u001b[49m\u001b[43m,\u001b[49m\u001b[43m \u001b[49m\u001b[43mR_max\u001b[49m\u001b[43m,\u001b[49m\u001b[43m \u001b[49m\u001b[43mmeta_gamma\u001b[49m\u001b[43m,\u001b[49m\u001b[43m \u001b[49m\u001b[43mmax_meta_epi\u001b[49m\u001b[43m,\u001b[49m\u001b[43m \u001b[49m\u001b[43mmax_meta_steps\u001b[49m\u001b[43m,\u001b[49m\u001b[43m \u001b[49m\u001b[43mradius\u001b[49m\u001b[43m,\u001b[49m\u001b[43m \u001b[49m\u001b[43mepsilon\u001b[49m\u001b[43m)\u001b[49m\n",
      "\u001b[0;31mTypeError\u001b[0m: __init__() takes from 6 to 7 positional arguments but 8 were given"
     ]
    }
   ],
   "source": [
    "K_epochs = 4  # update policy for K epochs\n",
    "inner_gamma = 0.9  #inner game discount factor\n",
    "meta_gamma = 0.9   #meta game discount factor\n",
    "R_max = 0.98\n",
    "max_meta_epi = 500\n",
    "max_meta_steps = 5\n",
    "max_inner_epi = 10\n",
    "max_inner_steps = 5\n",
    "\n",
    "epsilon = 0.2\n",
    "alpha = 0.4\n",
    "bs = 2          #batch size (must need for mfos for good results)\n",
    "radius = 3   #radius for discretization, assuming radius>1\n",
    "\n",
    "plot_rew = torch.zeros(max_inner_epi, max_inner_steps, 2, bs).to(device)    #reward tensor for plotting purposes\n",
    "\n",
    "# creating environment\n",
    "env = MetaGames(bs, \"NL\", \"IPD\")\n",
    "\n",
    "memory = Memory()\n",
    "rmax = RmaxAgent(env, R_max, meta_gamma, max_meta_epi, max_meta_steps, radius, epsilon)"
   ]
  },
  {
   "cell_type": "code",
   "execution_count": 4,
   "id": "35bb16eb",
   "metadata": {},
   "outputs": [
    {
     "data": {
      "text/plain": [
       "4"
      ]
     },
     "execution_count": 4,
     "metadata": {},
     "output_type": "execute_result"
    }
   ],
   "source": [
    "math.ceil((1/(1-inner_gamma)) / radius) +1"
   ]
  },
  {
   "cell_type": "code",
   "execution_count": null,
   "id": "a5154cab",
   "metadata": {
    "scrolled": true
   },
   "outputs": [],
   "source": [
    "for episode in range(rmax.max_episodes): #for each meta-episode\n",
    "    print(\"meta-episode =\", episode)\n",
    "    #initialise meta-state and meta-action as zeros\n",
    "    meta_s = torch.zeros(env.b, env.d, env.num_actions, env.num_agents).to(device) \n",
    "    meta_a = meta_s[:,:,:0]\n",
    "        \n",
    "    for step in range(rmax.max_steps):    #for each meta time step\n",
    "        print(\"meta-timestep =\", step)\n",
    "        \n",
    "        for epi in range(max_inner_epi):              #for each inner episodes \n",
    "            print(\"inner episode =\", epi)\n",
    "            state = env.reset()   #reset environment \n",
    "            \n",
    "            for t in range(max_inner_steps):                     #for each inner timestep\n",
    "                print(\"inner timestep =\", t)\n",
    "                if t == 0:\n",
    "                    #initialised action \n",
    "                    best_action = env.init_action\n",
    "                else:\n",
    "                    #find action that has max Q value for current state for both agents\n",
    "                    best_action = env.choose_action(state)   \n",
    "\n",
    "                #run inner game according to that action, for K episodes & T timesteps, output used to be new_state, reward, done, _ \n",
    "                newstate, reward, info = env.step(best_action,inner_gamma, t)  \n",
    "                plot_rew[epi,t,0,:] = reward\n",
    "                plot_rew[epi,t,1,:] = info\n",
    "                \n",
    "                #update inner r matrix\n",
    "                for i in range(env.b):\n",
    "                    env.innerr[i, state[i], best_action[0,i], 0] += reward[i] \n",
    "                    env.innerr[i, state[i], best_action[1,i], 1] += info[i]\n",
    "\n",
    "                #update inner q matrix, another for loop since have to wait till inner r matrix gets updated    \n",
    "                for i in range(env.b):    \n",
    "                    env.innerq[i, state[i], best_action[0,i], 0] = env.innerr[i, state[i], best_action[0,i], 0] + inner_gamma * torch.max(env.innerq[i, newstate[i], :, 0]) \n",
    "                    env.innerq[i, state[i], best_action[1,i], 1] = env.innerr[i, state[i], best_action[1,i], 1] + inner_gamma * torch.max(env.innerq[i, newstate[i], :, 1])\n",
    "\n",
    "                #set current state = new state\n",
    "                state = newstate  \n",
    "                \n",
    "                print(\"reward at inner timestep = \", t, \":\", plot_rew[epi,t,:,:])\n",
    "                 \n",
    "        print(\"done 1 inner episode,\", step)\n",
    "        #meta-state = inner game Q table for all agents\n",
    "        new_meta_s = round_func(env.innerq, radius)\n",
    "        #meta-action = inner game Q table for our agent\n",
    "        new_meta_a = round_func(env.innerq[:,:,:,0], radius)      \n",
    "        #select meta-action that corresponds to our agent's max Q table\n",
    "         \n",
    "        our_REW = reward                           #meta-reward = sum of rewards of our agent in inner game of K episodes & T timesteps\n",
    "        print(torch.flatten(meta_s[i]).size(), torch.flatten(new_meta_s[i]).size())\n",
    "        for i in range(env.b):\n",
    "            rmax.update(memory, torch.flatten(meta_s[i]), torch.flatten(meta_a[i]) , torch.flatten(new_meta_s[i]) )\n",
    "        \n",
    "        meta_s = new_meta_s\n",
    "        meta_a = new_meta_a\n",
    "        \n",
    "#             if done:\n",
    "#                 if not(reward==1):\n",
    "#                     self.R[state][best_action]=-10\n",
    "#                 break\n"
   ]
  },
  {
   "cell_type": "code",
   "execution_count": null,
   "id": "5c124620",
   "metadata": {},
   "outputs": [],
   "source": [
    "list(torch.flatten(meta_s[i]))"
   ]
  },
  {
   "cell_type": "code",
   "execution_count": 27,
   "id": "20d71601",
   "metadata": {},
   "outputs": [
    {
     "data": {
      "text/plain": [
       "torch.Size([2, 5, 2, 2])"
      ]
     },
     "execution_count": 27,
     "metadata": {},
     "output_type": "execute_result"
    }
   ],
   "source": [
    "torch.zeros(env.b, env.d, env.num_actions, env.num_agents).to(device).size()"
   ]
  },
  {
   "cell_type": "code",
   "execution_count": 26,
   "id": "47b40c56",
   "metadata": {},
   "outputs": [
    {
     "data": {
      "text/plain": [
       "torch.Size([20])"
      ]
     },
     "execution_count": 26,
     "metadata": {},
     "output_type": "execute_result"
    }
   ],
   "source": [
    "torch.flatten(new_meta_s[i]).size()"
   ]
  },
  {
   "cell_type": "code",
   "execution_count": 21,
   "id": "430312c4",
   "metadata": {},
   "outputs": [
    {
     "data": {
      "text/plain": [
       "tensor([[[[0., 0.],\n",
       "          [0., 0.]],\n",
       "\n",
       "         [[0., 0.],\n",
       "          [0., 0.]],\n",
       "\n",
       "         [[0., 0.],\n",
       "          [0., 0.]],\n",
       "\n",
       "         [[0., 0.],\n",
       "          [0., 0.]]],\n",
       "\n",
       "\n",
       "        [[[0., 0.],\n",
       "          [0., 0.]],\n",
       "\n",
       "         [[0., 0.],\n",
       "          [0., 0.]],\n",
       "\n",
       "         [[0., 0.],\n",
       "          [0., 0.]],\n",
       "\n",
       "         [[0., 0.],\n",
       "          [0., 0.]]]], device='cuda:0')"
      ]
     },
     "execution_count": 21,
     "metadata": {},
     "output_type": "execute_result"
    }
   ],
   "source": [
    "meta_s "
   ]
  },
  {
   "cell_type": "code",
   "execution_count": null,
   "id": "b0c42a79",
   "metadata": {},
   "outputs": [],
   "source": []
  }
 ],
 "metadata": {
  "kernelspec": {
   "display_name": "kittymfos",
   "language": "python",
   "name": "kittymfos"
  },
  "language_info": {
   "codemirror_mode": {
    "name": "ipython",
    "version": 3
   },
   "file_extension": ".py",
   "mimetype": "text/x-python",
   "name": "python",
   "nbconvert_exporter": "python",
   "pygments_lexer": "ipython3",
   "version": "3.8.13"
  }
 },
 "nbformat": 4,
 "nbformat_minor": 5
}
