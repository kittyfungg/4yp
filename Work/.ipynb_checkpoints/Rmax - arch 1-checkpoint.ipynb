{
 "cells": [
  {
   "cell_type": "code",
   "execution_count": 1,
   "id": "bb72619d",
   "metadata": {},
   "outputs": [],
   "source": [
    "import numpy as np\n",
    "import math\n",
    "import torch\n",
    "device = torch.device(\"cuda:0\" if torch.cuda.is_available() else \"cpu\")\n",
    "\n",
    "from env_ipd import MetaGames\n",
    "from rmax import RmaxAgent, Memory\n",
    "\n",
    "import gym\n",
    "from gym.spaces import Discrete, Tuple"
   ]
  },
  {
   "cell_type": "code",
   "execution_count": 2,
   "id": "f73f79a8",
   "metadata": {},
   "outputs": [],
   "source": [
    "############################################\n",
    "K_epochs = 4  # update policy for K epochs\n",
    "\n",
    "gamma = 0.99  # discount factor\n",
    "R_max = 0.98\n",
    "max_episodes=500\n",
    "max_steps=5\n",
    "epsilon=0.2\n",
    "alpha = 0.4\n",
    "bs = 4          #batch size (mus need for mfos for good results)\n",
    "radius_dp = 1   #no. of decimal point for discretization \n",
    "\n",
    "our_rew = torch.zeros(bs).to(device)     #our agent's reward\n",
    "oppo_rew = torch.zeros(bs).to(device)    #opponent's reward\n",
    "\n",
    "# creating environment\n",
    "#env = MetaGames(b, opponent=args.opponent, game=args.game, mmapg_id=args.mamaml_id)\n",
    "env = MetaGames(bs, \"NL\", \"IPD\")\n",
    "\n",
    "#action_dim = env.d\n",
    "nA = env.d\n",
    "#state_dim = env.d * 2\n",
    "nS = env.d * 2\n",
    "\n",
    "memory = Memory()\n",
    "rmax = RmaxAgent(env, R_max, gamma, max_episodes, max_steps, radius_dp, epsilon = 0.2)\n"
   ]
  },
  {
   "cell_type": "code",
   "execution_count": 3,
   "id": "0c81dcd5",
   "metadata": {
    "scrolled": true
   },
   "outputs": [],
   "source": [
    "state = env.reset()\n",
    "best_action = env.choose_action(state)    #chooses action for our agent\n",
    "newstate, reward, info = env.step(best_action)\n",
    "our_rew += reward.reshape(-1)\n",
    "oppo_rew += info.reshape(-1)\n"
   ]
  },
  {
   "cell_type": "code",
   "execution_count": 8,
   "id": "592ed243",
   "metadata": {},
   "outputs": [
    {
     "data": {
      "text/plain": [
       "tensor([[0, 0, 0, 0],\n",
       "        [0, 0, 0, 0]], device='cuda:0')"
      ]
     },
     "execution_count": 8,
     "metadata": {},
     "output_type": "execute_result"
    }
   ],
   "source": [
    "for i in env.b:\n",
    "    env.innerr[i, state[i], best_action[0,i], 0] += our_rew \n",
    "    env.innerr[i, state[i], best_action[1,i], 1] += oppo_rew\n"
   ]
  },
  {
   "cell_type": "code",
   "execution_count": 11,
   "id": "86632b9d",
   "metadata": {},
   "outputs": [
    {
     "data": {
      "text/plain": [
       "torch.Size([4, 4, 2, 2])"
      ]
     },
     "execution_count": 11,
     "metadata": {},
     "output_type": "execute_result"
    }
   ],
   "source": [
    "env.innerr.size()"
   ]
  },
  {
   "cell_type": "code",
   "execution_count": 3,
   "id": "a5154cab",
   "metadata": {
    "collapsed": true
   },
   "outputs": [
    {
     "name": "stdout",
     "output_type": "stream",
     "text": [
      "episode = 0\n",
      "timestep = 0\n"
     ]
    },
    {
     "ename": "RuntimeError",
     "evalue": "size mismatch, got 16, 16x2,4",
     "output_type": "error",
     "traceback": [
      "\u001b[0;31m---------------------------------------------------------------------------\u001b[0m",
      "\u001b[0;31mRuntimeError\u001b[0m                              Traceback (most recent call last)",
      "Cell \u001b[0;32mIn [3], line 6\u001b[0m\n\u001b[1;32m      4\u001b[0m \u001b[38;5;28;01mfor\u001b[39;00m step \u001b[38;5;129;01min\u001b[39;00m \u001b[38;5;28mrange\u001b[39m(rmax\u001b[38;5;241m.\u001b[39mmax_steps):    \u001b[38;5;66;03m#for each meta time step\u001b[39;00m\n\u001b[1;32m      5\u001b[0m     \u001b[38;5;28mprint\u001b[39m(\u001b[38;5;124m\"\u001b[39m\u001b[38;5;124mtimestep =\u001b[39m\u001b[38;5;124m\"\u001b[39m, step)\n\u001b[0;32m----> 6\u001b[0m     state \u001b[38;5;241m=\u001b[39m \u001b[43menv\u001b[49m\u001b[38;5;241;43m.\u001b[39;49m\u001b[43mreset\u001b[49m\u001b[43m(\u001b[49m\u001b[43m)\u001b[49m   \u001b[38;5;66;03m#reset environment  ok\u001b[39;00m\n\u001b[1;32m      8\u001b[0m     \u001b[38;5;66;03m#for each inner episodes            \u001b[39;00m\n\u001b[1;32m      9\u001b[0m     \u001b[38;5;28;01mfor\u001b[39;00m epi \u001b[38;5;129;01min\u001b[39;00m \u001b[38;5;28mrange\u001b[39m(\u001b[38;5;241m10\u001b[39m):                 \n",
      "File \u001b[0;32m~/Desktop/Work/env_ipd.py:49\u001b[0m, in \u001b[0;36mMetaGames.reset\u001b[0;34m(self, info)\u001b[0m\n\u001b[1;32m     46\u001b[0m \u001b[38;5;28;01mdef\u001b[39;00m \u001b[38;5;21mreset\u001b[39m(\u001b[38;5;28mself\u001b[39m, info\u001b[38;5;241m=\u001b[39m\u001b[38;5;28;01mFalse\u001b[39;00m):\n\u001b[1;32m     47\u001b[0m     rand_action \u001b[38;5;241m=\u001b[39m torch\u001b[38;5;241m.\u001b[39mrandint(\u001b[38;5;241m2\u001b[39m, (\u001b[38;5;28mself\u001b[39m\u001b[38;5;241m.\u001b[39mb, \u001b[38;5;28mself\u001b[39m\u001b[38;5;241m.\u001b[39md))\u001b[38;5;241m.\u001b[39mto(device)        \u001b[38;5;66;03m#random action of size [size.b, size.d], action value either 0 (Coorperate) or 1(Defect)\u001b[39;00m\n\u001b[0;32m---> 49\u001b[0m     state, _, _ \u001b[38;5;241m=\u001b[39m \u001b[38;5;28;43mself\u001b[39;49m\u001b[38;5;241;43m.\u001b[39;49m\u001b[43mstep\u001b[49m\u001b[43m(\u001b[49m\u001b[43mrand_action\u001b[49m\u001b[43m)\u001b[49m\n\u001b[1;32m     50\u001b[0m     \u001b[38;5;28;01mreturn\u001b[39;00m state\n",
      "File \u001b[0;32m~/Desktop/Work/env_ipd.py:54\u001b[0m, in \u001b[0;36mMetaGames.step\u001b[0;34m(self, action)\u001b[0m\n\u001b[1;32m     53\u001b[0m \u001b[38;5;28;01mdef\u001b[39;00m \u001b[38;5;21mstep\u001b[39m(\u001b[38;5;28mself\u001b[39m, action):\n\u001b[0;32m---> 54\u001b[0m     l1, l2 \u001b[38;5;241m=\u001b[39m \u001b[38;5;28;43mself\u001b[39;49m\u001b[38;5;241;43m.\u001b[39;49m\u001b[43mgame_batched\u001b[49m\u001b[43m(\u001b[49m\u001b[43maction\u001b[49m\u001b[38;5;241;43m.\u001b[39;49m\u001b[43mfloat\u001b[49m\u001b[43m(\u001b[49m\u001b[43m)\u001b[49m\u001b[43m)\u001b[49m\n\u001b[1;32m     55\u001b[0m     state \u001b[38;5;241m=\u001b[39m action\n\u001b[1;32m     56\u001b[0m     \u001b[38;5;28;01mreturn\u001b[39;00m state\u001b[38;5;241m.\u001b[39mdetach(), \u001b[38;5;241m-\u001b[39ml2\u001b[38;5;241m.\u001b[39mdetach(), \u001b[38;5;241m-\u001b[39ml1\u001b[38;5;241m.\u001b[39mdetach()\n",
      "File \u001b[0;32m~/Desktop/Work/env_ipd.py:17\u001b[0m, in \u001b[0;36mpd_one_iteration_batched.<locals>.Ls\u001b[0;34m(action)\u001b[0m\n\u001b[1;32m     15\u001b[0m \u001b[38;5;28;01mdef\u001b[39;00m \u001b[38;5;21mLs\u001b[39m(action):\n\u001b[1;32m     16\u001b[0m     x, y \u001b[38;5;241m=\u001b[39m torch\u001b[38;5;241m.\u001b[39mcat([action[\u001b[38;5;241m0\u001b[39m], \u001b[38;5;241m1\u001b[39m\u001b[38;5;241m-\u001b[39maction[\u001b[38;5;241m0\u001b[39m]], dim\u001b[38;5;241m=\u001b[39m\u001b[38;5;241m-\u001b[39m\u001b[38;5;241m1\u001b[39m), torch\u001b[38;5;241m.\u001b[39mcat([action[\u001b[38;5;241m1\u001b[39m], \u001b[38;5;241m1\u001b[39m\u001b[38;5;241m-\u001b[39maction[\u001b[38;5;241m1\u001b[39m]], dim\u001b[38;5;241m=\u001b[39m\u001b[38;5;241m-\u001b[39m\u001b[38;5;241m1\u001b[39m)\n\u001b[0;32m---> 17\u001b[0m     L_1 \u001b[38;5;241m=\u001b[39m \u001b[38;5;241m-\u001b[39mtorch\u001b[38;5;241m.\u001b[39mmatmul(\u001b[43mtorch\u001b[49m\u001b[38;5;241;43m.\u001b[39;49m\u001b[43mmatmul\u001b[49m\u001b[43m(\u001b[49m\u001b[43mx\u001b[49m\u001b[43m,\u001b[49m\u001b[43m \u001b[49m\u001b[43mpayout_mat_1\u001b[49m\u001b[43m)\u001b[49m, y\u001b[38;5;241m.\u001b[39munsqueeze(\u001b[38;5;241m-\u001b[39m\u001b[38;5;241m1\u001b[39m))\n\u001b[1;32m     18\u001b[0m     L_1 \u001b[38;5;241m=\u001b[39m torch\u001b[38;5;241m.\u001b[39mreshape(L_1, (bs,\u001b[38;5;241m1\u001b[39m,\u001b[38;5;241m1\u001b[39m)) \n\u001b[1;32m     19\u001b[0m     L_2 \u001b[38;5;241m=\u001b[39m \u001b[38;5;241m-\u001b[39mtorch\u001b[38;5;241m.\u001b[39mmatmul(torch\u001b[38;5;241m.\u001b[39mmatmul(x, payout_mat_2), y\u001b[38;5;241m.\u001b[39munsqueeze(\u001b[38;5;241m-\u001b[39m\u001b[38;5;241m1\u001b[39m))\n",
      "\u001b[0;31mRuntimeError\u001b[0m: size mismatch, got 16, 16x2,4"
     ]
    }
   ],
   "source": [
    "for episode in range(rmax.max_episodes): #for each meta-episode\n",
    "    print(\"episode =\", episode)\n",
    "    \n",
    "    for step in range(rmax.max_steps):    #for each meta time step\n",
    "        print(\"timestep =\", step)\n",
    "        state = env.reset()   #reset environment DONE\n",
    "                    \n",
    "        #for each inner episodes            \n",
    "        for epi in range(10):                 \n",
    "            for t in range(5):                     #for each inner timestep\n",
    "                if t == 0:\n",
    "                    #initialise action by random, of size\n",
    "                    best_action = torch.randint(2, (env.d, env.b)).to(device)   #DONE\n",
    "                else:\n",
    "                    #find action that has max Q value for current state for both agents\n",
    "                    best_action = env.choose_action(state)   #DONE\n",
    "                    \n",
    "                #run inner game according to that action, for K episodes & T timesteps, output used to be new_state, reward, done, _ \n",
    "                newstate, reward, info = env.step(best_action.reshape(1))  #DONE\n",
    "                our_rew += reward.reshape(-1)   #DONE\n",
    "                oppo_rew += info.reshape(-1)    #DONE\n",
    "                \n",
    "                env.innerr[:, state, best_action, 0] += our_rew \n",
    "                env.innerr[:, state, best_action, 1] += oppo_rew\n",
    "\n",
    "                #find index of discretized state value, logic: match ref_arr to state values\n",
    "                state = newstate\n",
    "                \n",
    "                #find discretized state index that corresponds to the real state value\n",
    "                dstate=[]\n",
    "                for j in torch.round(state, decimals = radius_dp):\n",
    "                    for i,x in enumerate(ref_arr):\n",
    "                        if x==j:\n",
    "                            dstate_index.append(i)\n",
    "                            \n",
    "                #update Q table for our agent\n",
    "                innerq[:, dstate_index[0], best_action, 0] += alpha * (innerr[:, dstate_index[0], best_action, 0] + rmax.gamma * torch.amax(innerq[:, :, :, 0], dim=(1,2)) - innerq[:, dstate_index[0], best_action, 0])    \n",
    "                #update Q table for opponent\n",
    "                innerq[:, dstate_index[1], best_action, 1] += alpha * (innerr[:, dstate_index[1], best_action, 1] + rmax.gamma * torch.amax(innerq[:, :, :, 1], dim=(1,2)) - innerq[:, dstate_index[1], best_action, 1])        \n",
    "        print(\"done 1 inner episode,\", step)\n",
    "        meta_s = torch.round(innerq, decimals = radius_dp).long().to(device)               #meta-state = inner game Q table for all agents\n",
    "        meta_a = torch.round(innerq[:,:,:,0], decimals = radius_dp).long().to(device)       #meta-action = inner game Q table for our agent\n",
    "        \n",
    "        best_meta_a = torch.argmax(rmax.Q[:,torch.flatten(meta_s)]).to(device)  #select meta-action that corresponds to our agent's maxi Q table\n",
    "        our_REW = our_rew                           #meta-reward = sum of rewards of our agent in inner game of K episodes & T timesteps\n",
    "        rmax.update(memory, torch.flatten(best_meta_a) , torch.flatten(meta_s))\n",
    "        \n",
    "#             if done:\n",
    "#                 if not(reward==1):\n",
    "#                     self.R[state][best_action]=-10\n",
    "#                 break\n"
   ]
  },
  {
   "cell_type": "code",
   "execution_count": null,
   "id": "53b61d4e",
   "metadata": {},
   "outputs": [],
   "source": [
    "torch.ones(2,3,torch.ones(3*))"
   ]
  }
 ],
 "metadata": {
  "kernelspec": {
   "display_name": "kittymfos",
   "language": "python",
   "name": "kittymfos"
  },
  "language_info": {
   "codemirror_mode": {
    "name": "ipython",
    "version": 3
   },
   "file_extension": ".py",
   "mimetype": "text/x-python",
   "name": "python",
   "nbconvert_exporter": "python",
   "pygments_lexer": "ipython3",
   "version": "3.8.13"
  }
 },
 "nbformat": 4,
 "nbformat_minor": 5
}
