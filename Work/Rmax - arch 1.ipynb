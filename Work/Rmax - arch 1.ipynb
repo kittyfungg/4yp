{
 "cells": [
  {
   "cell_type": "code",
   "execution_count": 1,
   "id": "bb72619d",
   "metadata": {},
   "outputs": [],
   "source": [
    "import numpy as np\n",
    "import math\n",
    "import torch\n",
    "device = torch.device(\"cuda:0\" if torch.cuda.is_available() else \"cpu\")\n",
    "\n",
    "import gym\n",
    "from gym.spaces import Discrete, Tuple\n",
    "\n",
    "from env_ipd import MetaGames\n",
    "from rmax import RmaxAgent, Memory\n",
    "\n",
    "def round_func(number, radius):\n",
    "    return (torch.round(torch.div(number, radius))) * radius"
   ]
  },
  {
   "cell_type": "code",
   "execution_count": 2,
   "id": "f73f79a8",
   "metadata": {},
   "outputs": [],
   "source": [
    "K_epochs = 4  # update policy for K epochs\n",
    "inner_gamma = 0.9  #inner game discount factor\n",
    "meta_gamma = 0.9   #meta game discount factor\n",
    "R_max = 0.98\n",
    "max_meta_epi = 500\n",
    "max_meta_steps = 5\n",
    "max_inner_epi = 10\n",
    "max_inner_steps = 5\n",
    "\n",
    "epsilon = 0.2\n",
    "alpha = 0.4\n",
    "bs = 2          #batch size (must need for mfos for good results)\n",
    "radius = 3   #radius for discretization, assuming radius>1\n",
    "\n",
    "plot_rew = torch.zeros(max_inner_epi, max_inner_steps, 2, bs).to(device)    #reward tensor for plotting purposes\n",
    "\n",
    "# creating environment\n",
    "env = MetaGames(bs, \"NL\", \"IPD\")\n",
    "\n",
    "memory = Memory()\n",
    "rmax = RmaxAgent(env, R_max, meta_gamma, max_meta_epi, max_meta_steps, radius, epsilon)"
   ]
  },
  {
   "cell_type": "code",
   "execution_count": 3,
   "id": "a5154cab",
   "metadata": {
    "scrolled": true
   },
   "outputs": [
    {
     "name": "stdout",
     "output_type": "stream",
     "text": [
      "meta-episode = 0\n",
      "meta-timestep = 0\n",
      "inner episode = 0\n"
     ]
    },
    {
     "ename": "NameError",
     "evalue": "name 't' is not defined",
     "output_type": "error",
     "traceback": [
      "\u001b[0;31m---------------------------------------------------------------------------\u001b[0m",
      "\u001b[0;31mNameError\u001b[0m                                 Traceback (most recent call last)",
      "Cell \u001b[0;32mIn [3], line 12\u001b[0m\n\u001b[1;32m     10\u001b[0m \u001b[38;5;28;01mfor\u001b[39;00m epi \u001b[38;5;129;01min\u001b[39;00m \u001b[38;5;28mrange\u001b[39m(max_inner_epi):              \u001b[38;5;66;03m#for each inner episodes \u001b[39;00m\n\u001b[1;32m     11\u001b[0m     \u001b[38;5;28mprint\u001b[39m(\u001b[38;5;124m\"\u001b[39m\u001b[38;5;124minner episode =\u001b[39m\u001b[38;5;124m\"\u001b[39m, epi)\n\u001b[0;32m---> 12\u001b[0m     state \u001b[38;5;241m=\u001b[39m \u001b[43menv\u001b[49m\u001b[38;5;241;43m.\u001b[39;49m\u001b[43mreset\u001b[49m\u001b[43m(\u001b[49m\u001b[43m)\u001b[49m   \u001b[38;5;66;03m#reset environment \u001b[39;00m\n\u001b[1;32m     14\u001b[0m     \u001b[38;5;28;01mfor\u001b[39;00m t \u001b[38;5;129;01min\u001b[39;00m \u001b[38;5;28mrange\u001b[39m(max_inner_steps):                     \u001b[38;5;66;03m#for each inner timestep\u001b[39;00m\n\u001b[1;32m     15\u001b[0m         \u001b[38;5;28mprint\u001b[39m(\u001b[38;5;124m\"\u001b[39m\u001b[38;5;124minner timestep =\u001b[39m\u001b[38;5;124m\"\u001b[39m, t)\n",
      "File \u001b[0;32m~/Desktop/Work/env_ipd.py:61\u001b[0m, in \u001b[0;36mMetaGames.reset\u001b[0;34m(self, info)\u001b[0m\n\u001b[1;32m     58\u001b[0m \u001b[38;5;28;01mdef\u001b[39;00m \u001b[38;5;21mreset\u001b[39m(\u001b[38;5;28mself\u001b[39m, info\u001b[38;5;241m=\u001b[39m\u001b[38;5;28;01mFalse\u001b[39;00m):\n\u001b[1;32m     59\u001b[0m     \u001b[38;5;66;03m#random action of size [2 agents, size.b], action value either 1 (Coorperate) or 0 (Defect)\u001b[39;00m\n\u001b[1;32m     60\u001b[0m     \u001b[38;5;28mself\u001b[39m\u001b[38;5;241m.\u001b[39minit_action \u001b[38;5;241m=\u001b[39m torch\u001b[38;5;241m.\u001b[39mrandint(\u001b[38;5;241m2\u001b[39m, (\u001b[38;5;28mself\u001b[39m\u001b[38;5;241m.\u001b[39mnum_agents, \u001b[38;5;28mself\u001b[39m\u001b[38;5;241m.\u001b[39mb))\u001b[38;5;241m.\u001b[39mto(device)\n\u001b[0;32m---> 61\u001b[0m     state, _, _ \u001b[38;5;241m=\u001b[39m \u001b[38;5;28;43mself\u001b[39;49m\u001b[38;5;241;43m.\u001b[39;49m\u001b[43mstep\u001b[49m\u001b[43m(\u001b[49m\u001b[38;5;28;43mself\u001b[39;49m\u001b[38;5;241;43m.\u001b[39;49m\u001b[43minit_action\u001b[49m\u001b[43m)\u001b[49m\n\u001b[1;32m     62\u001b[0m     \u001b[38;5;28mself\u001b[39m\u001b[38;5;241m.\u001b[39minnerr \u001b[38;5;241m=\u001b[39m torch\u001b[38;5;241m.\u001b[39mzeros(\u001b[38;5;28mself\u001b[39m\u001b[38;5;241m.\u001b[39mb, \u001b[38;5;28mself\u001b[39m\u001b[38;5;241m.\u001b[39md , \u001b[38;5;28mself\u001b[39m\u001b[38;5;241m.\u001b[39mnum_actions, \u001b[38;5;28mself\u001b[39m\u001b[38;5;241m.\u001b[39mnum_agents)\u001b[38;5;241m.\u001b[39mto(device) \n\u001b[1;32m     63\u001b[0m     \u001b[38;5;28;01mreturn\u001b[39;00m state\n",
      "File \u001b[0;32m~/Desktop/Work/env_ipd.py:66\u001b[0m, in \u001b[0;36mMetaGames.step\u001b[0;34m(self, action)\u001b[0m\n\u001b[1;32m     65\u001b[0m \u001b[38;5;28;01mdef\u001b[39;00m \u001b[38;5;21mstep\u001b[39m(\u001b[38;5;28mself\u001b[39m, action):\n\u001b[0;32m---> 66\u001b[0m     r1, r2 \u001b[38;5;241m=\u001b[39m \u001b[38;5;28;43mself\u001b[39;49m\u001b[38;5;241;43m.\u001b[39;49m\u001b[43mgame_batched\u001b[49m\u001b[43m(\u001b[49m\u001b[43maction\u001b[49m\u001b[38;5;241;43m.\u001b[39;49m\u001b[43mfloat\u001b[49m\u001b[43m(\u001b[49m\u001b[43m)\u001b[49m\u001b[43m)\u001b[49m\n\u001b[1;32m     67\u001b[0m     \u001b[38;5;28mself\u001b[39m\u001b[38;5;241m.\u001b[39mrew1 \u001b[38;5;241m=\u001b[39m r1\n\u001b[1;32m     68\u001b[0m     \u001b[38;5;28mself\u001b[39m\u001b[38;5;241m.\u001b[39mrew2 \u001b[38;5;241m=\u001b[39m r2\n",
      "File \u001b[0;32m~/Desktop/Work/env_ipd.py:18\u001b[0m, in \u001b[0;36mpd_one_iteration_batched.<locals>.Reward\u001b[0;34m(action)\u001b[0m\n\u001b[1;32m     16\u001b[0m \u001b[38;5;28;01mdef\u001b[39;00m \u001b[38;5;21mReward\u001b[39m(action):\n\u001b[1;32m     17\u001b[0m     \u001b[38;5;28;01mfor\u001b[39;00m i \u001b[38;5;129;01min\u001b[39;00m \u001b[38;5;28mrange\u001b[39m(bs):\n\u001b[0;32m---> 18\u001b[0m         \u001b[38;5;28;01mif\u001b[39;00m \u001b[43mt\u001b[49m \u001b[38;5;241m==\u001b[39m \u001b[38;5;241m0\u001b[39m:\n\u001b[1;32m     19\u001b[0m             x0 \u001b[38;5;241m=\u001b[39m torch\u001b[38;5;241m.\u001b[39mstack((action[\u001b[38;5;241m0\u001b[39m,i], \u001b[38;5;241m1\u001b[39m\u001b[38;5;241m-\u001b[39maction[\u001b[38;5;241m0\u001b[39m,i]), dim\u001b[38;5;241m=\u001b[39m\u001b[38;5;241m0\u001b[39m)    \u001b[38;5;66;03m#action of our agent [1, 0] for C\u001b[39;00m\n\u001b[1;32m     20\u001b[0m             y0 \u001b[38;5;241m=\u001b[39m torch\u001b[38;5;241m.\u001b[39mstack((action[\u001b[38;5;241m1\u001b[39m,i], \u001b[38;5;241m1\u001b[39m\u001b[38;5;241m-\u001b[39maction[\u001b[38;5;241m1\u001b[39m,i]), dim\u001b[38;5;241m=\u001b[39m\u001b[38;5;241m0\u001b[39m)    \u001b[38;5;66;03m#action of other agent \u001b[39;00m\n",
      "\u001b[0;31mNameError\u001b[0m: name 't' is not defined"
     ]
    }
   ],
   "source": [
    "for episode in range(rmax.max_episodes): #for each meta-episode\n",
    "    print(\"meta-episode =\", episode)\n",
    "    #initialise meta-state and meta-action as zeros\n",
    "    meta_s = torch.zeros(env.b, env.d, env.num_actions, env.num_agents).to(device) \n",
    "    meta_a = meta_s[:,:,:0]\n",
    "        \n",
    "    for step in range(rmax.max_steps):    #for each meta time step\n",
    "        print(\"meta-timestep =\", step)\n",
    "        \n",
    "        for epi in range(max_inner_epi):              #for each inner episodes \n",
    "            print(\"inner episode =\", epi)\n",
    "            state = env.reset()   #reset environment \n",
    "            \n",
    "            for t in range(max_inner_steps):                     #for each inner timestep\n",
    "                print(\"inner timestep =\", t)\n",
    "                if t == 0:\n",
    "                    #initialised action \n",
    "                    best_action = env.init_action\n",
    "                else:\n",
    "                    #find action that has max Q value for current state for both agents\n",
    "                    best_action = env.choose_action(state)   \n",
    "\n",
    "                #run inner game according to that action, for K episodes & T timesteps, output used to be new_state, reward, done, _ \n",
    "                newstate, reward, info = env.step(best_action)  \n",
    "                plot_rew[epi,t,0,:] = reward\n",
    "                plot_rew[epi,t,1,:] = info\n",
    "                \n",
    "                #update inner r matrix\n",
    "                for i in range(env.b):\n",
    "                    env.innerr[i, state[i], best_action[0,i], 0] += gamma * reward[i] \n",
    "                    env.innerr[i, state[i], best_action[1,i], 1] += info[i]\n",
    "\n",
    "                #update inner q matrix, another for loop since have to wait till inner r matrix gets updated    \n",
    "                for i in range(env.b):    \n",
    "                    env.innerq[i, state[i], best_action[0,i], 0] = env.innerr[i, state[i], best_action[0,i], 0] + inner_gamma * torch.max(env.innerq[i, newstate[i], :, 0]) \n",
    "                    env.innerq[i, state[i], best_action[1,i], 1] = env.innerr[i, state[i], best_action[1,i], 1] + inner_gamma * torch.max(env.innerq[i, newstate[i], :, 1])\n",
    "\n",
    "                #set current state = new state\n",
    "                state = newstate  \n",
    "                \n",
    "                print(\"reward at inner timestep = \", t, \":\", plot_rew[epi,t,:,:])\n",
    "                 \n",
    "        print(\"done 1 inner episode,\", step)\n",
    "        #meta-state = inner game Q table for all agents\n",
    "        new_meta_s = round_func(env.innerq, radius)\n",
    "        #meta-action = inner game Q table for our agent\n",
    "        new_meta_a = round_func(env.innerq[:,:,:,0], radius)      \n",
    "        #select meta-action that corresponds to our agent's max Q table\n",
    "         \n",
    "        our_REW = reward                           #meta-reward = sum of rewards of our agent in inner game of K episodes & T timesteps\n",
    "        print(torch.flatten(meta_s[i]).size(), torch.flatten(new_meta_s[i]).size())\n",
    "        for i in range(env.b):\n",
    "            rmax.update(memory, torch.flatten(meta_s[i]), torch.flatten(meta_a[i]) , torch.flatten(new_meta_s[i]) )\n",
    "        \n",
    "        meta_s = new_meta_s\n",
    "        meta_a = new_meta_a\n",
    "        \n",
    "#             if done:\n",
    "#                 if not(reward==1):\n",
    "#                     self.R[state][best_action]=-10\n",
    "#                 break\n"
   ]
  },
  {
   "cell_type": "code",
   "execution_count": null,
   "id": "5c124620",
   "metadata": {},
   "outputs": [],
   "source": [
    "list(torch.flatten(meta_s[i]))"
   ]
  },
  {
   "cell_type": "code",
   "execution_count": 27,
   "id": "20d71601",
   "metadata": {},
   "outputs": [
    {
     "data": {
      "text/plain": [
       "torch.Size([2, 5, 2, 2])"
      ]
     },
     "execution_count": 27,
     "metadata": {},
     "output_type": "execute_result"
    }
   ],
   "source": [
    "torch.zeros(env.b, env.d, env.num_actions, env.num_agents).to(device).size()"
   ]
  },
  {
   "cell_type": "code",
   "execution_count": 26,
   "id": "47b40c56",
   "metadata": {},
   "outputs": [
    {
     "data": {
      "text/plain": [
       "torch.Size([20])"
      ]
     },
     "execution_count": 26,
     "metadata": {},
     "output_type": "execute_result"
    }
   ],
   "source": [
    "torch.flatten(new_meta_s[i]).size()"
   ]
  },
  {
   "cell_type": "code",
   "execution_count": 21,
   "id": "430312c4",
   "metadata": {},
   "outputs": [
    {
     "data": {
      "text/plain": [
       "tensor([[[[0., 0.],\n",
       "          [0., 0.]],\n",
       "\n",
       "         [[0., 0.],\n",
       "          [0., 0.]],\n",
       "\n",
       "         [[0., 0.],\n",
       "          [0., 0.]],\n",
       "\n",
       "         [[0., 0.],\n",
       "          [0., 0.]]],\n",
       "\n",
       "\n",
       "        [[[0., 0.],\n",
       "          [0., 0.]],\n",
       "\n",
       "         [[0., 0.],\n",
       "          [0., 0.]],\n",
       "\n",
       "         [[0., 0.],\n",
       "          [0., 0.]],\n",
       "\n",
       "         [[0., 0.],\n",
       "          [0., 0.]]]], device='cuda:0')"
      ]
     },
     "execution_count": 21,
     "metadata": {},
     "output_type": "execute_result"
    }
   ],
   "source": [
    "meta_s "
   ]
  },
  {
   "cell_type": "code",
   "execution_count": null,
   "id": "b0c42a79",
   "metadata": {},
   "outputs": [],
   "source": []
  }
 ],
 "metadata": {
  "kernelspec": {
   "display_name": "kittymfos",
   "language": "python",
   "name": "kittymfos"
  },
  "language_info": {
   "codemirror_mode": {
    "name": "ipython",
    "version": 3
   },
   "file_extension": ".py",
   "mimetype": "text/x-python",
   "name": "python",
   "nbconvert_exporter": "python",
   "pygments_lexer": "ipython3",
   "version": "3.8.13"
  }
 },
 "nbformat": 4,
 "nbformat_minor": 5
}
