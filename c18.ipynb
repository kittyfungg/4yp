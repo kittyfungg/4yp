{
 "cells": [
  {
   "cell_type": "code",
   "execution_count": 1,
   "id": "57290af2",
   "metadata": {},
   "outputs": [
    {
     "data": {
      "text/html": [
       "<style>.container { width:100% !important; }</style>"
      ],
      "text/plain": [
       "<IPython.core.display.HTML object>"
      ]
     },
     "metadata": {},
     "output_type": "display_data"
    }
   ],
   "source": [
    "from IPython.display import display, HTML\n",
    "display(HTML(\"<style>.container { width:100% !important; }</style>\"))\n"
   ]
  },
  {
   "cell_type": "code",
   "execution_count": 25,
   "id": "b89e84d5",
   "metadata": {},
   "outputs": [],
   "source": [
    "import heapq\n",
    "\n",
    "def dijkstra_grid(grid, start, end):\n",
    "\n",
    "    rows = len(grid)\n",
    "    cols = len(grid[0])\n",
    "    visited = set()\n",
    "    dist = {start: 0}\n",
    "    prev = {}\n",
    "    heap = [(0, start)]\n",
    "\n",
    "    while heap:\n",
    "        # Pop the node with the smallest distance from the heap\n",
    "        curr_dist, curr_node = heapq.heappop(heap)\n",
    "        if curr_node == end:\n",
    "            # We have found the shortest path to the end node\n",
    "            path = []\n",
    "            while curr_node in prev:\n",
    "                path.append(curr_node)\n",
    "                curr_node = prev[curr_node]\n",
    "            path.append(start)\n",
    "            return visited, path[::-1], dist[end]\n",
    "\n",
    "        if curr_node in visited:\n",
    "            # This node has already been visited\n",
    "            continue\n",
    "\n",
    "        visited.add(curr_node)\n",
    "\n",
    "        # Visit the neighbors of the current node\n",
    "        for row_offset in range(-1, 2):\n",
    "            for col_offset in range(-1, 2):\n",
    "                if row_offset == 0 and col_offset == 0:\n",
    "                    # Skip the current node\n",
    "                    continue\n",
    "                neighbor_row = curr_node[0] + row_offset\n",
    "                neighbor_col = curr_node[1] + col_offset\n",
    "                if neighbor_row < 0 or neighbor_row >= rows or neighbor_col < 0 or neighbor_col >= cols:\n",
    "                    # Neighbor is outside the grid\n",
    "                    continue\n",
    "                if grid[neighbor_row][neighbor_col] == 1:\n",
    "                    # Neighbor is an obstacle\n",
    "                    continue\n",
    "                neighbor_node = (neighbor_row, neighbor_col)\n",
    "                #(a)(i) just Dijkstra\n",
    "                #neighbor_dist = dist[curr_node] + ((row_offset ** 2 + col_offset ** 2) ** 0.5) if row_offset != 0 and col_offset != 0 else dist[curr_node] + 1  # diagonal cost is sqrt(2) and straight cost is 1\n",
    "                \n",
    "                #(a)(ii) euclidean distance to goal\n",
    "                #euclid = ((curr_node[0] + row_offset - end[0]) **2 + (curr_node[1] + col_offset - end[1]) **2) **0.5\n",
    "                #neighbor_dist = dist[curr_node] + ((row_offset ** 2 + col_offset ** 2) ** 0.5) + euclid if row_offset != 0 and col_offset != 0 else dist[curr_node] + 1 + euclid\n",
    "                \n",
    "                #(a)(iii) inflated heuristic\n",
    "                inflated_euclid = 100 * ((curr_node[0] + row_offset - end[0]) **2 + (curr_node[1] + col_offset - end[1]) **2) **0.5\n",
    "                neighbor_dist = dist[curr_node] + ((row_offset ** 2 + col_offset ** 2) ** 0.5) + inflated_euclid if row_offset != 0 and col_offset != 0 else dist[curr_node] + 1 + inflated_euclid\n",
    "                \n",
    "                if neighbor_node not in visited and (neighbor_node not in dist or neighbor_dist < dist[neighbor_node]):\n",
    "                    # Update the distance to the neighbor and add it to the heap\n",
    "                    dist[neighbor_node] = neighbor_dist\n",
    "                    prev[neighbor_node] = curr_node\n",
    "                    heapq.heappush(heap, (neighbor_dist, neighbor_node))\n",
    "\n",
    "    # No path was found from start to end\n",
    "    return [], float(\"inf\")\n"
   ]
  },
  {
   "cell_type": "code",
   "execution_count": 26,
   "id": "df5c439d",
   "metadata": {},
   "outputs": [],
   "source": [
    "world_size = 20\n",
    "grid = [[0 for x in range(world_size)] for y in range(world_size)]\n",
    "for i in range(7):\n",
    "    #specify obstacle coordinates\n",
    "    grid[6][2+i] = 1\n",
    "    grid[12][2+i] = 1\n",
    "    \n",
    "for i in range(5):\n",
    "    grid[7+i][8] = 1\n",
    "    \n",
    "end = (9,4)\n",
    "start = (9,14)\n",
    "visited2, path2, dist2 = dijkstra_grid(grid, start, end)"
   ]
  },
  {
   "cell_type": "code",
   "execution_count": 29,
   "id": "1af29261",
   "metadata": {},
   "outputs": [
    {
     "data": {
      "image/png": "[encoded data removed]",
      "text/plain": [
       "<Figure size 640x480 with 1 Axes>"
      ]
     },
     "metadata": {},
     "output_type": "display_data"
    }
   ],
   "source": [
    "import matplotlib.pyplot as plt\n",
    "import numpy as np\n",
    "# create a color map for the grid\n",
    "cmap = plt.get_cmap(\"gray\")\n",
    "\n",
    "# create a new figure\n",
    "fig, ax = plt.subplots()\n",
    "\n",
    "# plot the grid as an image\n",
    "ax.imshow(np.array(grid), cmap=cmap)\n",
    "\n",
    "# plot the start and end points\n",
    "ax.scatter(start[1], start[0], marker=\"o\", color=\"green\")\n",
    "ax.scatter(end[1], end[0], marker=\"o\", color=\"red\")\n",
    "\n",
    "# plot the shortest path\n",
    "x = [p[1] for p in path3[::-1]]\n",
    "y = [p[0] for p in path3[::-1]]\n",
    "ax.plot(x, y, color=\"blue\")\n",
    "\n",
    "# show the plot\n",
    "plt.show()"
   ]
  },
  {
   "cell_type": "code",
   "execution_count": 24,
   "id": "1c30c7c0",
   "metadata": {},
   "outputs": [
    {
     "data": {
      "text/plain": [
       "303"
      ]
     },
     "execution_count": 24,
     "metadata": {},
     "output_type": "execute_result"
    }
   ],
   "source": [
    "len(visited2)"
   ]
  },
  {
   "cell_type": "code",
   "execution_count": 56,
   "id": "c42159d5",
   "metadata": {},
   "outputs": [],
   "source": [
    "import random\n",
    "import math\n",
    "import numpy as np\n",
    "import matplotlib.pyplot as plt\n",
    "\n",
    "\n",
    "class Node:\n",
    "    def __init__(self, x, y):\n",
    "        self.x = x\n",
    "        self.y = y\n",
    "        self.parent = None\n",
    "\n",
    "\n",
    "class RRT:\n",
    "    def __init__(self, start, goal, obstacle_list, rand_area, expand_dis=1.0, goal_sample_rate=20, max_iter=1000):\n",
    "        self.start = Node(start[0], start[1])\n",
    "        self.goal = Node(goal[0], goal[1])\n",
    "        self.min_rand_x, self.max_rand_x = rand_area[0], rand_area[2]\n",
    "        self.min_rand_y, self.max_rand_y = rand_area[1], rand_area[3]\n",
    "        self.expand_dis = expand_dis\n",
    "        self.goal_sample_rate = goal_sample_rate\n",
    "        self.max_iter = max_iter\n",
    "        self.obstacle_list = obstacle_list\n",
    "\n",
    "        self.node_list = [self.start]\n",
    "\n",
    "        for i in range(self.max_iter):\n",
    "            if random.randint(0, 100) > self.goal_sample_rate:\n",
    "                rand_node = self.get_random_node()\n",
    "            else:\n",
    "                rand_node = self.goal\n",
    "\n",
    "            nearest_ind = self.get_nearest_node_index(self.node_list, rand_node)\n",
    "            nearest_node = self.node_list[nearest_ind]\n",
    "\n",
    "            new_node = self.steer(nearest_node, rand_node, self.expand_dis)\n",
    "            if self.check_collision(new_node, self.obstacle_list):\n",
    "                self.node_list.append(new_node)\n",
    "\n",
    "            if self.calc_dist_to_goal(self.node_list[-1].x, self.node_list[-1].y) <= self.expand_dis:\n",
    "                final_node = self.steer(self.node_list[-1], self.goal, self.expand_dis)\n",
    "                if self.check_collision(final_node, self.obstacle_list):\n",
    "                    self.node_list.append(final_node)\n",
    "                    break\n",
    "\n",
    "        self.path = self.get_path(self.node_list[-1])\n",
    "\n",
    "    def get_random_node(self):\n",
    "        if random.randint(0, 100) > self.goal_sample_rate:\n",
    "            rnd = [random.uniform(self.min_rand_x, self.max_rand_x), random.uniform(self.min_rand_y, self.max_rand_y)]\n",
    "        else:\n",
    "            rnd = [self.goal.x, self.goal.y]\n",
    "        return Node(rnd[0], rnd[1])\n",
    "\n",
    "    def get_nearest_node_index(self, node_list, rnd_node):\n",
    "        dlist = [(node.x - rnd_node.x) ** 2 + (node.y - rnd_node.y) ** 2 for node in node_list]\n",
    "        minind = dlist.index(min(dlist))\n",
    "        return minind\n",
    "\n",
    "    def steer(self, from_node, to_node, extend_length=float(\"inf\")):\n",
    "        new_node = Node(from_node.x, from_node.y)\n",
    "        d, theta = self.calc_distance_and_angle(new_node, to_node)\n",
    "        if extend_length > d:\n",
    "            extend_length = d\n",
    "        new_node.x += extend_length * math.cos(theta)\n",
    "        new_node.y += extend_length * math.sin(theta)\n",
    "        new_node.parent = from_node\n",
    "        return new_node\n",
    "\n",
    "    def calc_distance_and_angle(self, from_node, to_node):\n",
    "        dx = to_node.x - from_node.x\n",
    "        dy = to_node.y - from_node.y\n",
    "        return math.sqrt(dx ** 2 + dy ** 2), math.atan2(dy, dx)\n",
    "\n",
    "    def check_collision(self, node, obstacle_list):\n",
    "        for obstacle in obstacle_list:\n",
    "            if self.dist_to_obstacle(node.x, node.y, obstacle) <= 0.5:\n",
    "                return\n"
   ]
  },
  {
   "cell_type": "code",
   "execution_count": 57,
   "id": "b74894f8",
   "metadata": {
    "scrolled": true
   },
   "outputs": [
    {
     "ename": "AttributeError",
     "evalue": "'RRT' object has no attribute 'dist_to_obstacle'",
     "output_type": "error",
     "traceback": [
      "\u001b[0;31m---------------------------------------------------------------------------\u001b[0m",
      "\u001b[0;31mAttributeError\u001b[0m                            Traceback (most recent call last)",
      "Cell \u001b[0;32mIn [57], line 17\u001b[0m\n\u001b[1;32m     13\u001b[0m     path\u001b[38;5;241m.\u001b[39mappend((node\u001b[38;5;241m.\u001b[39mx, node\u001b[38;5;241m.\u001b[39my))\n\u001b[1;32m     14\u001b[0m     \u001b[38;5;28;01mreturn\u001b[39;00m path[::\u001b[38;5;241m-\u001b[39m\u001b[38;5;241m1\u001b[39m]\n\u001b[0;32m---> 17\u001b[0m rrt \u001b[38;5;241m=\u001b[39m \u001b[43mRRT\u001b[49m\u001b[43m(\u001b[49m\u001b[43mstart\u001b[49m\u001b[43m,\u001b[49m\u001b[43m \u001b[49m\u001b[43mgoal\u001b[49m\u001b[43m,\u001b[49m\u001b[43m \u001b[49m\u001b[43mobstacle_list\u001b[49m\u001b[43m,\u001b[49m\u001b[43m \u001b[49m\u001b[43mrand_area\u001b[49m\u001b[43m,\u001b[49m\u001b[43m \u001b[49m\u001b[43mexpand_dis\u001b[49m\u001b[38;5;241;43m=\u001b[39;49m\u001b[38;5;241;43m1.0\u001b[39;49m\u001b[43m,\u001b[49m\u001b[43m \u001b[49m\u001b[43mgoal_sample_rate\u001b[49m\u001b[38;5;241;43m=\u001b[39;49m\u001b[38;5;241;43m200\u001b[39;49m\u001b[43m,\u001b[49m\u001b[43m \u001b[49m\u001b[43mmax_iter\u001b[49m\u001b[38;5;241;43m=\u001b[39;49m\u001b[38;5;241;43m1000000\u001b[39;49m\u001b[43m)\u001b[49m\n\u001b[1;32m     18\u001b[0m path \u001b[38;5;241m=\u001b[39m get_path(rrt\u001b[38;5;241m.\u001b[39mnode_list[\u001b[38;5;241m-\u001b[39m\u001b[38;5;241m1\u001b[39m])\n",
      "Cell \u001b[0;32mIn [56], line 37\u001b[0m, in \u001b[0;36mRRT.__init__\u001b[0;34m(self, start, goal, obstacle_list, rand_area, expand_dis, goal_sample_rate, max_iter)\u001b[0m\n\u001b[1;32m     34\u001b[0m nearest_node \u001b[38;5;241m=\u001b[39m \u001b[38;5;28mself\u001b[39m\u001b[38;5;241m.\u001b[39mnode_list[nearest_ind]\n\u001b[1;32m     36\u001b[0m new_node \u001b[38;5;241m=\u001b[39m \u001b[38;5;28mself\u001b[39m\u001b[38;5;241m.\u001b[39msteer(nearest_node, rand_node, \u001b[38;5;28mself\u001b[39m\u001b[38;5;241m.\u001b[39mexpand_dis)\n\u001b[0;32m---> 37\u001b[0m \u001b[38;5;28;01mif\u001b[39;00m \u001b[38;5;28;43mself\u001b[39;49m\u001b[38;5;241;43m.\u001b[39;49m\u001b[43mcheck_collision\u001b[49m\u001b[43m(\u001b[49m\u001b[43mnew_node\u001b[49m\u001b[43m,\u001b[49m\u001b[43m \u001b[49m\u001b[38;5;28;43mself\u001b[39;49m\u001b[38;5;241;43m.\u001b[39;49m\u001b[43mobstacle_list\u001b[49m\u001b[43m)\u001b[49m:\n\u001b[1;32m     38\u001b[0m     \u001b[38;5;28mself\u001b[39m\u001b[38;5;241m.\u001b[39mnode_list\u001b[38;5;241m.\u001b[39mappend(new_node)\n\u001b[1;32m     40\u001b[0m \u001b[38;5;28;01mif\u001b[39;00m \u001b[38;5;28mself\u001b[39m\u001b[38;5;241m.\u001b[39mcalc_dist_to_goal(\u001b[38;5;28mself\u001b[39m\u001b[38;5;241m.\u001b[39mnode_list[\u001b[38;5;241m-\u001b[39m\u001b[38;5;241m1\u001b[39m]\u001b[38;5;241m.\u001b[39mx, \u001b[38;5;28mself\u001b[39m\u001b[38;5;241m.\u001b[39mnode_list[\u001b[38;5;241m-\u001b[39m\u001b[38;5;241m1\u001b[39m]\u001b[38;5;241m.\u001b[39my) \u001b[38;5;241m<\u001b[39m\u001b[38;5;241m=\u001b[39m \u001b[38;5;28mself\u001b[39m\u001b[38;5;241m.\u001b[39mexpand_dis:\n",
      "Cell \u001b[0;32mIn [56], line 77\u001b[0m, in \u001b[0;36mRRT.check_collision\u001b[0;34m(self, node, obstacle_list)\u001b[0m\n\u001b[1;32m     75\u001b[0m \u001b[38;5;28;01mdef\u001b[39;00m \u001b[38;5;21mcheck_collision\u001b[39m(\u001b[38;5;28mself\u001b[39m, node, obstacle_list):\n\u001b[1;32m     76\u001b[0m     \u001b[38;5;28;01mfor\u001b[39;00m obstacle \u001b[38;5;129;01min\u001b[39;00m obstacle_list:\n\u001b[0;32m---> 77\u001b[0m         \u001b[38;5;28;01mif\u001b[39;00m \u001b[38;5;28;43mself\u001b[39;49m\u001b[38;5;241;43m.\u001b[39;49m\u001b[43mdist_to_obstacle\u001b[49m(node\u001b[38;5;241m.\u001b[39mx, node\u001b[38;5;241m.\u001b[39my, obstacle) \u001b[38;5;241m<\u001b[39m\u001b[38;5;241m=\u001b[39m \u001b[38;5;241m0.5\u001b[39m:\n\u001b[1;32m     78\u001b[0m             \u001b[38;5;28;01mreturn\u001b[39;00m\n",
      "\u001b[0;31mAttributeError\u001b[0m: 'RRT' object has no attribute 'dist_to_obstacle'"
     ]
    }
   ],
   "source": [
    "start = (9,4)\n",
    "goal = (9,14)\n",
    "obstacle_list = [(6,2,7,1), (12,2,7,1), (7,8,1,5)]\n",
    "rand_area = (0, 0, 20, 20)\n",
    "\n",
    "\n",
    "def get_path(goal_node):\n",
    "    path = []\n",
    "    node = goal_node\n",
    "    while node.parent is not None:\n",
    "        path.append((node.x, node.y))\n",
    "        node = node.parent\n",
    "    path.append((node.x, node.y))\n",
    "    return path[::-1]\n",
    "\n",
    "\n",
    "rrt = RRT(start, goal, obstacle_list, rand_area, expand_dis=1.0, goal_sample_rate=200, max_iter=1000000)\n",
    "path = get_path(rrt.node_list[-1])\n"
   ]
  },
  {
   "cell_type": "code",
   "execution_count": 55,
   "id": "bd3ebb05",
   "metadata": {},
   "outputs": [
    {
     "data": {
      "text/plain": [
       "[(9, 4)]"
      ]
     },
     "execution_count": 55,
     "metadata": {},
     "output_type": "execute_result"
    }
   ],
   "source": [
    "path"
   ]
  },
  {
   "cell_type": "code",
   "execution_count": null,
   "id": "6164f4b2",
   "metadata": {},
   "outputs": [],
   "source": []
  }
 ],
 "metadata": {
  "kernelspec": {
   "display_name": "kittymfos",
   "language": "python",
   "name": "kittymfos"
  },
  "language_info": {
   "codemirror_mode": {
    "name": "ipython",
    "version": 3
   },
   "file_extension": ".py",
   "mimetype": "text/x-python",
   "name": "python",
   "nbconvert_exporter": "python",
   "pygments_lexer": "ipython3",
   "version": "3.8.13"
  }
 },
 "nbformat": 4,
 "nbformat_minor": 5
}
