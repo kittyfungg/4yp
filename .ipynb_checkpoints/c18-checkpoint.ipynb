{
 "cells": [
  {
   "cell_type": "code",
   "execution_count": 1,
   "id": "9cb7d2fb",
   "metadata": {},
   "outputs": [],
   "source": [
    "import numpy as np"
   ]
  },
  {
   "cell_type": "code",
   "execution_count": 4,
   "id": "b20c9a86",
   "metadata": {},
   "outputs": [],
   "source": [
    "cost = np.matrix(np.ones((19,19)) * np.inf)\n",
    "#mark starting point cost = 0\n",
    "cost[9, 4] = 0\n",
    "status = np.matrix(np.zeros((19,19)))     #status = 0 = open, 1 = close"
   ]
  },
  {
   "cell_type": "code",
   "execution_count": 8,
   "id": "d518c2d6",
   "metadata": {},
   "outputs": [],
   "source": [
    "def select_vertex(status, cost):\n",
    "    coord = np.argmin(cost)\n",
    "    if coord != [9,14]:\n",
    "        \n",
    "    else: \n",
    "        return done #then print path"
   ]
  },
  {
   "cell_type": "code",
   "execution_count": 9,
   "id": "774820be",
   "metadata": {},
   "outputs": [
    {
     "data": {
      "text/plain": [
       "matrix([[inf, inf, inf, inf, inf, inf, inf, inf, inf, inf, inf, inf, inf,\n",
       "         inf, inf, inf, inf, inf, inf],\n",
       "        [inf, inf, inf, inf, inf, inf, inf, inf, inf, inf, inf, inf, inf,\n",
       "         inf, inf, inf, inf, inf, inf],\n",
       "        [inf, inf, inf, inf, inf, inf, inf, inf, inf, inf, inf, inf, inf,\n",
       "         inf, inf, inf, inf, inf, inf],\n",
       "        [inf, inf, inf, inf, inf, inf, inf, inf, inf, inf, inf, inf, inf,\n",
       "         inf, inf, inf, inf, inf, inf],\n",
       "        [inf, inf, inf, inf, inf, inf, inf, inf, inf, inf, inf, inf, inf,\n",
       "         inf, inf, inf, inf, inf, inf],\n",
       "        [inf, inf, inf, inf, inf, inf, inf, inf, inf, inf, inf, inf, inf,\n",
       "         inf, inf, inf, inf, inf, inf],\n",
       "        [inf, inf, inf, inf, inf, inf, inf, inf, inf, inf, inf, inf, inf,\n",
       "         inf, inf, inf, inf, inf, inf],\n",
       "        [inf, inf, inf, inf, inf, inf, inf, inf, inf, inf, inf, inf, inf,\n",
       "         inf, inf, inf, inf, inf, inf],\n",
       "        [inf, inf, inf, inf, inf, inf, inf, inf, inf, inf, inf, inf, inf,\n",
       "         inf, inf, inf, inf, inf, inf],\n",
       "        [inf, inf, inf, inf,  0., inf, inf, inf, inf, inf, inf, inf, inf,\n",
       "         inf, inf, inf, inf, inf, inf],\n",
       "        [inf, inf, inf, inf, inf, inf, inf, inf, inf, inf, inf, inf, inf,\n",
       "         inf, inf, inf, inf, inf, inf],\n",
       "        [inf, inf, inf, inf, inf, inf, inf, inf, inf, inf, inf, inf, inf,\n",
       "         inf, inf, inf, inf, inf, inf],\n",
       "        [inf, inf, inf, inf, inf, inf, inf, inf, inf, inf, inf, inf, inf,\n",
       "         inf, inf, inf, inf, inf, inf],\n",
       "        [inf, inf, inf, inf, inf, inf, inf, inf, inf, inf, inf, inf, inf,\n",
       "         inf, inf, inf, inf, inf, inf],\n",
       "        [inf, inf, inf, inf, inf, inf, inf, inf, inf, inf, inf, inf, inf,\n",
       "         inf, inf, inf, inf, inf, inf],\n",
       "        [inf, inf, inf, inf, inf, inf, inf, inf, inf, inf, inf, inf, inf,\n",
       "         inf, inf, inf, inf, inf, inf],\n",
       "        [inf, inf, inf, inf, inf, inf, inf, inf, inf, inf, inf, inf, inf,\n",
       "         inf, inf, inf, inf, inf, inf],\n",
       "        [inf, inf, inf, inf, inf, inf, inf, inf, inf, inf, inf, inf, inf,\n",
       "         inf, inf, inf, inf, inf, inf],\n",
       "        [inf, inf, inf, inf, inf, inf, inf, inf, inf, inf, inf, inf, inf,\n",
       "         inf, inf, inf, inf, inf, inf]])"
      ]
     },
     "execution_count": 9,
     "metadata": {},
     "output_type": "execute_result"
    }
   ],
   "source": []
  },
  {
   "cell_type": "code",
   "execution_count": null,
   "id": "a2834a03",
   "metadata": {},
   "outputs": [],
   "source": []
  }
 ],
 "metadata": {
  "kernelspec": {
   "display_name": "kittymfos",
   "language": "python",
   "name": "kittymfos"
  },
  "language_info": {
   "codemirror_mode": {
    "name": "ipython",
    "version": 3
   },
   "file_extension": ".py",
   "mimetype": "text/x-python",
   "name": "python",
   "nbconvert_exporter": "python",
   "pygments_lexer": "ipython3",
   "version": "3.8.13"
  }
 },
 "nbformat": 4,
 "nbformat_minor": 5
}
