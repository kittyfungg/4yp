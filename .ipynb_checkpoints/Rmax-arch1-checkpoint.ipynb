{
 "cells": [
  {
   "cell_type": "code",
   "execution_count": 5,
   "id": "bb72619d",
   "metadata": {},
   "outputs": [],
   "source": [
    "import matplotlib.pyplot as plt\n",
    "import numpy as np\n",
    "import math\n",
    "import torch\n",
    "import random\n",
    "import pickle\n",
    "from datetime import datetime\n",
    "from collections import Counter\n",
    "\n",
    "from tqdm import tqdm\n",
    "device = torch.device(\"cuda:0\" if torch.cuda.is_available() else \"cpu\")\n",
    "\n",
    "import gym\n",
    "from gym.spaces import Discrete, Tuple\n",
    "\n",
    "from env_mp_1 import MetaGames\n",
    "from rmax_1 import RmaxAgent, Memory\n",
    "\n",
    "def discretize(number, radius):\n",
    "    #[0,3,5,4,8] --> [0,3,6,3,9] for radius 3\n",
    "    return torch.round(torch.div(number, radius)) * radius\n",
    "\n",
    "def Boltzmann(tensor):\n",
    "    #0.5 is just a temperature parameter, controls the spread of the softmax distribution\n",
    "    prob = torch.softmax(env.innerq[0,:].cpu()/0.4, 0).numpy()\n",
    "    action_value = np.random.choice(np.arange(tensor.size()[0]), p=prob)\n",
    "    return torch.Tensor([action_value]).to(device)"
   ]
  },
  {
   "cell_type": "code",
   "execution_count": 2,
   "id": "4749856d",
   "metadata": {},
   "outputs": [],
   "source": [
    "inner_gamma = 0.5         #inner game discount factor\n",
    "meta_gamma = 0.5          #meta game discount factor\n",
    "meta_alpha = 0.4          #meta game learning rate\n",
    "R_max = 1\n",
    "rmax_error = 0.6\n",
    "meta_epi = 100\n",
    "meta_steps = 50\n",
    "\n",
    "epsilon = 0.2\n",
    "radius = 1                #radius for discretization, assuming radius>1"
   ]
  },
  {
   "cell_type": "code",
   "execution_count": 25,
   "id": "f73f79a8",
   "metadata": {},
   "outputs": [],
   "source": [
    "#reward tensor for plotting purposes [episode, step, agents]\n",
    "plot_rew = torch.zeros(meta_epi, meta_steps, 2).to(device)    \n",
    "\n",
    "# creating environment\n",
    "env = MetaGames(\"NL\", \"IPD\")\n",
    "\n",
    "# creating rmax agent\n",
    "memory = Memory()\n",
    "rmax = RmaxAgent(env, R_max, meta_gamma, inner_gamma, radius, epsilon, rmax_error)"
   ]
  },
  {
   "cell_type": "code",
   "execution_count": 26,
   "id": "ac25f2c2",
   "metadata": {},
   "outputs": [],
   "source": [
    "#initialise meta-state and meta-action randomly\n",
    "meta_s = rmax.index_to_table(env, random.randint(0, rmax.meta_size * env.num_agents), env.num_agents)\n",
    "memory.states.append(meta_s)"
   ]
  },
  {
   "cell_type": "code",
   "execution_count": 28,
   "id": "5cf8b14f",
   "metadata": {},
   "outputs": [
    {
     "name": "stdout",
     "output_type": "stream",
     "text": [
      "inner-r:  tensor(0., device='cuda:0') \n",
      " inner-q:  tensor([[2.0000, 0.0000],\n",
      "        [0.2400, 0.4000]], device='cuda:0')\n",
      "updating s-a pair: 3 2\n"
     ]
    }
   ],
   "source": [
    "#previous meta-state set as the policy of the next game\n",
    "env.innerq[0,:] = meta_s[0].detach().clone() \n",
    "#--------------------------------------START OF INNER GAME--------------------------------------  \n",
    "#select our inner-action with Boltzmann sampling, oppo inner-action with epsilon greedy \n",
    "oppo_action = env.select_action().detach().clone()      \n",
    "our_action = Boltzmann(env.innerq[0,:].detach().clone())\n",
    "#print(\"inner actions: \", our_action, oppo_action)\n",
    "#run inner game according to actions\n",
    "reward, info = env.step(torch.cat((our_action, oppo_action))) \n",
    "\n",
    "#update inner r matrix [agent, action]\n",
    "env.innerr[0, int(our_action)] = reward.detach().clone() \n",
    "env.innerr[1, int(oppo_action)] = info.detach().clone()\n",
    "#---------------------------------------END OF INNER GAME--------------------------------------\n",
    "#Compute new inner Q table, our agent: meta_a that corresponds to max Q(meta_s)/ random, oppo: by Q learning\n",
    "env.innerq[0, :] = rmax.select_action(env, meta_s[0], -1)\n",
    "env.innerq[1, :] = (1-meta_alpha) * env.innerq[1, :] + torch.Tensor([meta_alpha * info * oppo_action, meta_alpha * info * (1-oppo_action)]).to(device)\n",
    "print(\"inner-r: \", reward, \"\\n inner-q: \", env.innerq)\n",
    "\n",
    "#meta-action = action that corresponds to max Q(meta_s) = our inner Q\n",
    "meta_a = env.innerq[0, :]\n",
    "memory.actions.append(meta_a) \n",
    "\n",
    "#meta-state = discretized inner game Q table of all agents\n",
    "new_meta_s = discretize(env.innerq.detach().clone(), radius)\n",
    "memory.states.append(new_meta_s)    \n",
    "\n",
    "#meta-reward = sum of rewards of our agent in inner game of K episodes & T timesteps\n",
    "our_REW = reward.detach().clone()                \n",
    "memory.rewards.append(our_REW)\n",
    "\n",
    "#rmax update step\n",
    "rmax.update(env, memory, meta_s, meta_a, new_meta_s)\n",
    "print(\"updating s-a pair:\", rmax.find_meta_index( torch.flatten(meta_s)), rmax.find_meta_index( torch.flatten(meta_a)))\n",
    "#print(\"updating s-a pair:\", rmax.find_meta_index( torch.flatten(meta_s)), rmax.find_meta_index( torch.flatten(meta_a)),\"\\nrmax.R: \", rmax.R, \"\\nrmax.Q: \", rmax.Q, \"\\nrmax.nSA: \", rmax.nSA)\n",
    "#print(meta_s, meta_a, new_meta_s)\n",
    "\n",
    "#prepare meta_s for next step\n",
    "meta_s = new_meta_s.detach().clone()"
   ]
  },
  {
   "cell_type": "code",
   "execution_count": 29,
   "id": "3c137f83",
   "metadata": {},
   "outputs": [
    {
     "name": "stderr",
     "output_type": "stream",
     "text": [
      "  5%|██                                       | 5/100 [00:02<00:47,  2.01it/s]\n"
     ]
    },
    {
     "ename": "KeyboardInterrupt",
     "evalue": "",
     "output_type": "error",
     "traceback": [
      "\u001b[0;31m---------------------------------------------------------------------------\u001b[0m",
      "\u001b[0;31mKeyboardInterrupt\u001b[0m                         Traceback (most recent call last)",
      "Cell \u001b[0;32mIn [29], line 40\u001b[0m\n\u001b[1;32m     37\u001b[0m memory\u001b[38;5;241m.\u001b[39mrewards\u001b[38;5;241m.\u001b[39mappend(our_REW)\n\u001b[1;32m     39\u001b[0m \u001b[38;5;66;03m#rmax update step\u001b[39;00m\n\u001b[0;32m---> 40\u001b[0m \u001b[43mrmax\u001b[49m\u001b[38;5;241;43m.\u001b[39;49m\u001b[43mupdate\u001b[49m\u001b[43m(\u001b[49m\u001b[43menv\u001b[49m\u001b[43m,\u001b[49m\u001b[43m \u001b[49m\u001b[43mmemory\u001b[49m\u001b[43m,\u001b[49m\u001b[43m \u001b[49m\u001b[43mmeta_s\u001b[49m\u001b[43m,\u001b[49m\u001b[43m \u001b[49m\u001b[43mmeta_a\u001b[49m\u001b[43m,\u001b[49m\u001b[43m \u001b[49m\u001b[43mnew_meta_s\u001b[49m\u001b[43m)\u001b[49m\n\u001b[1;32m     42\u001b[0m \u001b[38;5;66;03m#print(\"updating s-a pair:\", rmax.find_meta_index( torch.flatten(meta_s)), rmax.find_meta_index( torch.flatten(meta_a)),\"\\nrmax.R: \", rmax.R, \"\\nrmax.Q: \", rmax.Q, \"\\nrmax.nSA: \", rmax.nSA)\u001b[39;00m\n\u001b[1;32m     43\u001b[0m \u001b[38;5;66;03m#print(meta_s, meta_a, new_meta_s)\u001b[39;00m\n\u001b[1;32m     44\u001b[0m \n\u001b[1;32m     45\u001b[0m \u001b[38;5;66;03m#prepare meta_s for next step\u001b[39;00m\n\u001b[1;32m     46\u001b[0m meta_s \u001b[38;5;241m=\u001b[39m new_meta_s\u001b[38;5;241m.\u001b[39mdetach()\u001b[38;5;241m.\u001b[39mclone()\n",
      "File \u001b[0;32m~/Desktop/Work/rmax_1.py:110\u001b[0m, in \u001b[0;36mRmaxAgent.update\u001b[0;34m(self, env, memory, state, action, next_state)\u001b[0m\n\u001b[1;32m    108\u001b[0m                     \u001b[38;5;28;01mfor\u001b[39;00m next_s \u001b[38;5;129;01min\u001b[39;00m \u001b[38;5;28mrange\u001b[39m(env\u001b[38;5;241m.\u001b[39md \u001b[38;5;241m*\u001b[39m \u001b[38;5;241m2\u001b[39m):\n\u001b[1;32m    109\u001b[0m                         transition \u001b[38;5;241m=\u001b[39m \u001b[38;5;28mself\u001b[39m\u001b[38;5;241m.\u001b[39mnSAS[s][a][next_s]\u001b[38;5;241m/\u001b[39m\u001b[38;5;28mself\u001b[39m\u001b[38;5;241m.\u001b[39mnSA[s][a]\n\u001b[0;32m--> 110\u001b[0m                         q \u001b[38;5;241m+\u001b[39m\u001b[38;5;241m=\u001b[39m (transition \u001b[38;5;241m*\u001b[39m \u001b[43mtorch\u001b[49m\u001b[38;5;241;43m.\u001b[39;49m\u001b[43mmax\u001b[49m\u001b[43m(\u001b[49m\u001b[38;5;28;43mself\u001b[39;49m\u001b[38;5;241;43m.\u001b[39;49m\u001b[43mQ\u001b[49m\u001b[43m[\u001b[49m\u001b[43mnext_s\u001b[49m\u001b[43m,\u001b[49m\u001b[43m:\u001b[49m\u001b[43m]\u001b[49m\u001b[43m)\u001b[49m)\n\u001b[1;32m    112\u001b[0m                     \u001b[38;5;28mself\u001b[39m\u001b[38;5;241m.\u001b[39mQ[state_mapped][action_mapped] \u001b[38;5;241m=\u001b[39m q\n\u001b[1;32m    115\u001b[0m \u001b[38;5;28;01mif\u001b[39;00m memory\u001b[38;5;241m.\u001b[39mrewards[\u001b[38;5;241m-\u001b[39m\u001b[38;5;241m1\u001b[39m]\u001b[38;5;241m!=\u001b[39m\u001b[38;5;241m1\u001b[39m:\n",
      "\u001b[0;31mKeyboardInterrupt\u001b[0m: "
     ]
    }
   ],
   "source": [
    "#initialise meta-state and meta-action randomly\n",
    "meta_s = rmax.index_to_table(env, random.randint(0, rmax.meta_size * env.num_agents), env.num_agents)\n",
    "memory.states.append(meta_s)\n",
    "for episode in tqdm(range(meta_epi)): #for each meta-episode\n",
    "    #reset environment \n",
    "    env.reset() \n",
    "    for step in range(meta_steps):    #for each meta time step\n",
    "        #previous meta-state set as the policy of the next game\n",
    "        env.innerq[0,:] = meta_s[0].detach().clone() \n",
    "        #--------------------------------------START OF INNER GAME--------------------------------------  \n",
    "        #select our inner-action with Boltzmann sampling, oppo inner-action with epsilon greedy \n",
    "        oppo_action = env.select_action().detach().clone()      \n",
    "        our_action = Boltzmann(env.innerq[0,:].detach().clone())\n",
    "        #print(\"inner actions: \", our_action, oppo_action)\n",
    "        #run inner game according to actions\n",
    "        reward, info = env.step(torch.cat((our_action, oppo_action))) \n",
    "\n",
    "        #update inner r matrix [agent, action]\n",
    "        env.innerr[0, int(our_action)] = reward.detach().clone() \n",
    "        env.innerr[1, int(oppo_action)] = info.detach().clone()\n",
    "        #---------------------------------------END OF INNER GAME--------------------------------------\n",
    "        #Compute new inner Q table, our agent: meta_a that corresponds to max Q(meta_s)/ random, oppo: by Q learning\n",
    "        env.innerq[0, :] = rmax.select_action(env, meta_s[0], -1)\n",
    "        env.innerq[1, :] = (1-meta_alpha) * env.innerq[1, :] + torch.Tensor([meta_alpha * info * oppo_action, meta_alpha * info * (1-oppo_action)]).to(device)\n",
    "        #print(\"inner-r: \", reward, \"\\n inner-q: \", env.innerq)\n",
    "\n",
    "        #meta-action = action that corresponds to max Q(meta_s) = our inner Q\n",
    "        meta_a = env.innerq[0, :]\n",
    "        memory.actions.append(meta_a) \n",
    "\n",
    "        #meta-state = discretized inner game Q table of all agents\n",
    "        new_meta_s = discretize(env.innerq.detach().clone(), radius)\n",
    "        memory.states.append(new_meta_s)    \n",
    "\n",
    "        #meta-reward = sum of rewards of our agent in inner game of K episodes & T timesteps\n",
    "        our_REW = reward.detach().clone()                \n",
    "        memory.rewards.append(our_REW)\n",
    "\n",
    "        #rmax update step\n",
    "        rmax.update(env, memory, meta_s, meta_a, new_meta_s)\n",
    "\n",
    "        #print(\"updating s-a pair:\", rmax.find_meta_index( torch.flatten(meta_s)), rmax.find_meta_index( torch.flatten(meta_a)),\"\\nrmax.R: \", rmax.R, \"\\nrmax.Q: \", rmax.Q, \"\\nrmax.nSA: \", rmax.nSA)\n",
    "        #print(meta_s, meta_a, new_meta_s)\n",
    "\n",
    "        #prepare meta_s for next step\n",
    "        meta_s = new_meta_s.detach().clone()"
   ]
  },
  {
   "cell_type": "code",
   "execution_count": 6,
   "id": "9af5c617",
   "metadata": {},
   "outputs": [],
   "source": [
    "# Open a file and use dump()\n",
    "with open('plot_rew' + str(datetime.now()) + '.pkl', 'wb') as file:\n",
    "      \n",
    "    # A new file will be created\n",
    "    pickle.dump(plot_rew, file)\n",
    "    \n",
    "# Open a file and use dump()\n",
    "with open('memory' + str(datetime.now()) + '.pkl', 'wb') as file:\n",
    "      \n",
    "    # A new file will be created\n",
    "    pickle.dump(memory, file)\n",
    "\n",
    "# Open a file and use dump()\n",
    "with open('rmax' + str(datetime.now()) + '.pkl', 'wb') as file:\n",
    "      \n",
    "    # A new file will be created\n",
    "    pickle.dump(rmax, file)"
   ]
  },
  {
   "cell_type": "markdown",
   "id": "82e60abf",
   "metadata": {},
   "source": [
    "# Plots"
   ]
  },
  {
   "cell_type": "code",
   "execution_count": 18,
   "id": "1f25ec23",
   "metadata": {},
   "outputs": [
    {
     "data": {
      "text/plain": [
       "tensor([[   4,    3,    4,    5,    7,    6,    4,    4,    8],\n",
       "        [   4,    3,    4,    4,    3,    3,    3,    3,    3],\n",
       "        [   5,    6,    4,    4,    4,    5,    7,    9,    4],\n",
       "        [   3,    4,    4,    3,    3,    3,    3,    3,    4],\n",
       "        [  13,    4,    9,    5,   11,    5,    4,    5,    5],\n",
       "        [   3,    4,    3,    4,    3,    4,    3,    4,    4],\n",
       "        [   5,    4,    4,    4,    4,    4,    4,    4,    4],\n",
       "        [   4,    5,    5,    4,   10,    5,    5, 3061,    4],\n",
       "        [   4,    4,    7,    5,    6,    4,    3,    3,    3],\n",
       "        [   1,    1,    0,    0,    1,    0,    1,    3,    4],\n",
       "        [   0,    1,    3,    0,    3,    1,    0,    0,    2],\n",
       "        [   0,    1,    0,    0,    1,    1,    0,    0,    2],\n",
       "        [   1,    0,    0,    0,    0,    0,    2,    2,    0],\n",
       "        [   3,    0,    1,    1,    1,    0,    0,    0,    1],\n",
       "        [   1,    1,    1,    0,    2,    0,    1,    0,    0],\n",
       "        [   0,    1,    0,    1,    0,    0,    1,    0,    0],\n",
       "        [   1,    0,    1,    1,    1,    0,    0,   21,    0],\n",
       "        [   0,    0,    0,    0,    1,    2,    0,    2,    0],\n",
       "        [   0,    0,    0,    0,    0,    0,    0,    0,    0],\n",
       "        [   0,    0,    0,    0,    0,    0,    0,    0,    0],\n",
       "        [   0,    0,    0,    0,    0,    0,    0,    0,    0],\n",
       "        [   0,    0,    0,    0,    0,    0,    0,    0,    0],\n",
       "        [   0,    0,    0,    0,    0,    0,    0,    0,    0],\n",
       "        [   0,    0,    0,    0,    0,    0,    0,    0,    0],\n",
       "        [   0,    0,    0,    0,    0,    0,    0,    0,    0],\n",
       "        [   0,    0,    0,    0,    0,    0,    0,    0,    0],\n",
       "        [   0,    0,    0,    0,    0,    0,    0,    0,    0],\n",
       "        [   2,    0,    1,    0,    0,    0,    1,    4,    0],\n",
       "        [   0,    1,    0,    1,    4,    0,    0,    0,    2],\n",
       "        [   2,    0,    0,    0,    1,    0,    0,    1,    0],\n",
       "        [   2,    0,    0,    2,    3,    0,    2,    2,    1],\n",
       "        [   1,    0,    1,    0,    2,    0,    2,    0,    0],\n",
       "        [   1,    1,    2,    0,    0,    0,    1,    0,    1],\n",
       "        [   1,    2,    0,    0,    1,    0,    0,    3,    1],\n",
       "        [   3,    0,    2,    1,    0,    0,    0, 1431,    0],\n",
       "        [   0,    2,    1,    2,    1,    1,    1,    1,    0],\n",
       "        [   0,    0,    0,    0,    0,    0,    0,    0,    0],\n",
       "        [   0,    0,    0,    0,    0,    0,    0,    0,    0],\n",
       "        [   0,    0,    0,    0,    0,    0,    0,    0,    0],\n",
       "        [   0,    0,    0,    0,    0,    0,    0,    0,    0],\n",
       "        [   0,    0,    0,    0,    0,    0,    0,    0,    0],\n",
       "        [   0,    0,    0,    0,    0,    0,    0,    0,    0],\n",
       "        [   0,    0,    0,    0,    0,    0,    0,    0,    0],\n",
       "        [   0,    0,    0,    0,    0,    0,    0,    0,    0],\n",
       "        [   0,    0,    0,    0,    0,    0,    0,    0,    0],\n",
       "        [   0,    0,    0,    0,    0,    0,    0,    0,    0],\n",
       "        [   0,    0,    0,    0,    0,    0,    0,    0,    0],\n",
       "        [   0,    0,    0,    0,    0,    0,    0,    0,    0],\n",
       "        [   0,    0,    0,    0,    0,    0,    0,    0,    0],\n",
       "        [   0,    0,    0,    0,    0,    0,    0,    0,    0],\n",
       "        [   0,    0,    0,    0,    0,    0,    0,    0,    0],\n",
       "        [   0,    0,    0,    0,    0,    0,    0,    0,    0],\n",
       "        [   0,    0,    0,    0,    0,    0,    0,    0,    0],\n",
       "        [   0,    0,    0,    0,    0,    0,    0,    0,    0],\n",
       "        [   0,    0,    0,    0,    0,    0,    0,    0,    0],\n",
       "        [   0,    0,    0,    0,    0,    0,    0,    0,    0],\n",
       "        [   0,    0,    0,    0,    0,    0,    0,    0,    0],\n",
       "        [   0,    0,    0,    0,    0,    0,    0,    0,    0],\n",
       "        [   0,    0,    0,    0,    0,    0,    0,    0,    0],\n",
       "        [   0,    0,    0,    0,    0,    0,    0,    0,    0],\n",
       "        [   0,    0,    0,    0,    0,    0,    0,    0,    0],\n",
       "        [   0,    0,    0,    0,    0,    0,    0,    0,    0],\n",
       "        [   0,    0,    0,    0,    0,    0,    0,    0,    0],\n",
       "        [   0,    0,    0,    0,    0,    0,    0,    0,    0],\n",
       "        [   0,    0,    0,    0,    0,    0,    0,    0,    0],\n",
       "        [   0,    0,    0,    0,    0,    0,    0,    0,    0],\n",
       "        [   0,    0,    0,    0,    0,    0,    0,    0,    0],\n",
       "        [   0,    0,    0,    0,    0,    0,    0,    0,    0],\n",
       "        [   0,    0,    0,    0,    0,    0,    0,    0,    0],\n",
       "        [   0,    0,    0,    0,    0,    0,    0,    0,    0],\n",
       "        [   0,    0,    0,    0,    0,    0,    0,    0,    0],\n",
       "        [   0,    0,    0,    0,    0,    0,    0,    0,    0],\n",
       "        [   0,    0,    0,    0,    0,    0,    0,    0,    0],\n",
       "        [   0,    0,    0,    0,    0,    0,    0,    0,    0],\n",
       "        [   0,    0,    0,    0,    0,    0,    0,    0,    0],\n",
       "        [   0,    0,    0,    0,    0,    0,    0,    0,    0],\n",
       "        [   0,    0,    0,    0,    0,    0,    0,    0,    0],\n",
       "        [   0,    0,    0,    0,    0,    0,    0,    0,    0],\n",
       "        [   0,    0,    0,    0,    0,    0,    0,    0,    0],\n",
       "        [   0,    0,    0,    0,    0,    0,    0,    0,    0],\n",
       "        [   0,    0,    0,    0,    0,    0,    0,    0,    0]],\n",
       "       device='cuda:0')"
      ]
     },
     "execution_count": 18,
     "metadata": {},
     "output_type": "execute_result"
    }
   ],
   "source": [
    "rmax.nSA. type(torch. int64) "
   ]
  },
  {
   "cell_type": "code",
   "execution_count": 7,
   "id": "17ab306a",
   "metadata": {},
   "outputs": [
    {
     "data": {
      "image/png": "[encoded data removed]",
      "text/plain": [
       "<Figure size 1000x800 with 1 Axes>"
      ]
     },
     "metadata": {},
     "output_type": "display_data"
    }
   ],
   "source": [
    "\n",
    "#generate histogram\n",
    "visit_dict = {}\n",
    "for i in range(len(rmax.nSA.flatten().tolist())):\n",
    "    visit_dict[i]= rmax.nSA.flatten().tolist()[i]\n",
    "    \n",
    "histogram_dict = Counter(visit_dict.values())\n",
    "plt.bar(histogram_dict.keys(), histogram_dict.values(), 0.5, color='g')\n",
    "plt.text(0,-meta_epi*meta_steps*0.2 ,\"visitation counts: \" + str(histogram_dict), fontsize=12)\n",
    "figure0 = plt.gcf()\n",
    "figure0.set_size_inches(10, 8)\n",
    "plt.savefig('histogram for' + str(datetime.now()) + '.png')"
   ]
  },
  {
   "cell_type": "code",
   "execution_count": 8,
   "id": "36845f5e",
   "metadata": {
    "scrolled": true
   },
   "outputs": [
    {
     "data": {
      "image/png": "[encoded data removed]",
      "text/plain": [
       "<Figure size 5000x4000 with 1 Axes>"
      ]
     },
     "metadata": {},
     "output_type": "display_data"
    }
   ],
   "source": [
    "#generate heatmap\n",
    "plt.imshow(rmax.nSA.cpu().numpy(), cmap='hot', interpolation='nearest')\n",
    "figure1 = plt.gcf()\n",
    "figure1.set_size_inches(50, 40)\n",
    "plt.savefig('heatmap for' + str(datetime.now()) + '.png')"
   ]
  },
  {
   "cell_type": "code",
   "execution_count": 9,
   "id": "34c74c39",
   "metadata": {},
   "outputs": [
    {
     "data": {
      "text/plain": [
       "<Figure size 1000x800 with 0 Axes>"
      ]
     },
     "metadata": {},
     "output_type": "display_data"
    }
   ],
   "source": [
    "#generate reward mean\n",
    "plot_rew_mean = torch.mean(plot_rew[:,:,0],1)# - torch.mean(plot_rew[:,:,1],1)\n",
    "fig_handle = plt.plot(plot_rew_mean.cpu().numpy())\n",
    "\n",
    "plt.xlabel(\"episodes \\n Average reward of our agent: \" + str(round(torch.mean(plot_rew[:,:,0],(0,1)).detach().item(), 3)) + \n",
    "          \"\\n Average reward of another agent: \" + str(round(torch.mean(plot_rew[:,:,1],(0,1)).detach().item(), 3)))\n",
    "\n",
    "plt.ylabel(\"difference in mean rewards\")\n",
    "\n",
    "figure2 = plt.gcf() # get current figure\n",
    "figure2.set_size_inches(10, 8)\n",
    "\n",
    "plt.savefig('inner_gamma' + str(inner_gamma) + '_rad' + str(radius) + '_' + str(meta_epi) + '_' + str(meta_steps) + '_mp1.png' , dpi = 100)\n",
    "plt.clf()"
   ]
  },
  {
   "cell_type": "code",
   "execution_count": 10,
   "id": "b6041276",
   "metadata": {},
   "outputs": [
    {
     "data": {
      "text/plain": [
       "<Figure size 1000x800 with 0 Axes>"
      ]
     },
     "metadata": {},
     "output_type": "display_data"
    }
   ],
   "source": [
    "#generate learning curve at start\n",
    "plot_rew_epi_start = torch.mean(plot_rew[:int(meta_epi*0.1), :, 0], 0)\n",
    "fig_handle = plt.plot(plot_rew_epi_start.cpu().numpy())\n",
    "\n",
    "plt.xlabel(\"steps\")\n",
    "\n",
    "plt.ylabel(\"Average learning rate of first \" + str(int(meta_epi*0.1)) + \" episodes\")\n",
    "\n",
    "figure3 = plt.gcf() # get current figure\n",
    "figure3.set_size_inches(10, 8)\n",
    "\n",
    "plt.savefig('inner_gamma' + str(inner_gamma) + '_rad' + str(radius) + '_' + str(meta_epi) + '_' + str(meta_steps) + 'first_epi_mp1.png' , dpi = 100)\n",
    "plt.clf()"
   ]
  },
  {
   "cell_type": "code",
   "execution_count": 11,
   "id": "8b966658",
   "metadata": {
    "scrolled": true
   },
   "outputs": [
    {
     "data": {
      "text/plain": [
       "<Figure size 1000x800 with 0 Axes>"
      ]
     },
     "metadata": {},
     "output_type": "display_data"
    }
   ],
   "source": [
    "#generate learning curve at end\n",
    "plot_rew_epi_end = torch.mean(plot_rew[-int(meta_epi*0.1):, :, 0], 0)\n",
    "fig_handle = plt.plot(plot_rew_epi_end.cpu().numpy())\n",
    "\n",
    "plt.xlabel(\"steps\")\n",
    "\n",
    "plt.ylabel(\"Average learning rate of last \" + str(int(meta_epi*0.1)) + \" episodes\")\n",
    "\n",
    "figure4 = plt.gcf() # get current figure\n",
    "figure4.set_size_inches(10, 8)\n",
    "\n",
    "plt.savefig('inner_gamma' + str(inner_gamma) + '_rad' + str(radius) + '_' + str(meta_epi) + '_' + str(meta_steps) + '_last_epi_mp1.png' , dpi = 100)\n",
    "plt.clf()"
   ]
  },
  {
   "cell_type": "markdown",
   "id": "1881e169",
   "metadata": {},
   "source": [
    "# Interpreting results "
   ]
  },
  {
   "cell_type": "code",
   "execution_count": 3,
   "id": "65430fc4",
   "metadata": {},
   "outputs": [],
   "source": [
    "import glob\n",
    "path1 = \"memory*.pkl\"\n",
    "path2 = \"plot_rew*.pkl\"\n",
    "path3 = \"rmax*.pkl\"\n",
    "for filename in glob.glob(path1):\n",
    "    with open(filename, 'rb') as f:\n",
    "        memory = pickle.load(f)\n",
    "        \n",
    "for filename in glob.glob(path2):    \n",
    "    with open(filename, 'rb') as g:\n",
    "        plot_rew = pickle.load(g)\n",
    "        \n",
    "for filename in glob.glob(path3):    \n",
    "    with open(filename, 'rb') as g:\n",
    "        rmax = pickle.load(g)        "
   ]
  }
 ],
 "metadata": {
  "kernelspec": {
   "display_name": "kittymfos",
   "language": "python",
   "name": "kittymfos"
  },
  "language_info": {
   "codemirror_mode": {
    "name": "ipython",
    "version": 3
   },
   "file_extension": ".py",
   "mimetype": "text/x-python",
   "name": "python",
   "nbconvert_exporter": "python",
   "pygments_lexer": "ipython3",
   "version": "3.8.13"
  }
 },
 "nbformat": 4,
 "nbformat_minor": 5
}
