{
 "cells": [
  {
   "cell_type": "code",
   "execution_count": 1,
   "metadata": {},
   "outputs": [],
   "source": [
    "import matplotlib.pyplot as plt\n",
    "import numpy as np\n",
    "import math\n",
    "import random\n",
    "from tqdm import tqdm\n",
    "import torch\n",
    "device = torch.device(\"cuda:0\" if torch.cuda.is_available() else \"cpu\")\n",
    "\n",
    "import gym\n",
    "from gym.spaces import Discrete, Tuple\n",
    "\n",
    "from env_mp_2 import MetaGames\n",
    "from rmax_2 import RmaxAgent, Memory"
   ]
  },
  {
   "cell_type": "code",
   "execution_count": 5,
   "metadata": {},
   "outputs": [],
   "source": [
    "K_epochs = 4  # update policy for K epochs\n",
    "inner_gamma = 0.8  #inner game discount factor\n",
    "meta_gamma = 0.8   #meta game discount factor\n",
    "R_max = 0.98\n",
    "meta_epi = 500\n",
    "meta_steps = 50\n",
    "inner_epi = 1\n",
    "inner_steps = 1\n",
    "\n",
    "epsilon=0.2\n",
    "alpha = 0.4\n",
    "radius = 1\n",
    "\n",
    "# creating environment\n",
    "env = MetaGames(\"NL\", \"IPD\")\n",
    "\n",
    "# creating rmax agent\n",
    "memory = Memory()\n",
    "rmax = RmaxAgent(env, R_max, meta_gamma, inner_epi, inner_steps, radius, epsilon)\n",
    "\n",
    "#all agents' trajectory, entries will be like {[s1, a1, r1], [s2, a2, r2],...}\n",
    "traj = torch.empty(inner_epi, inner_steps,4).to(device) \n",
    "our_rew = 0     #our agent's reward\n",
    "oppo_rew = 0   #opponent's reward\n",
    "\n",
    "#reward tensor for plotting purposes [episode, step, agents]\n",
    "plot_rew = torch.zeros(meta_epi, meta_steps, 2).to(device)  "
   ]
  },
  {
   "cell_type": "code",
   "execution_count": null,
   "metadata": {},
   "outputs": [
    {
     "name": "stderr",
     "output_type": "stream",
     "text": [
      "  8%|███▏                                  | 42/500 [00:04<00:44, 10.30it/s]"
     ]
    }
   ],
   "source": [
    "#initialise meta-state = empty trajectory\n",
    "meta_s = torch.zeros(rmax.meta_S_size).to(device)\n",
    "memory.states.append(meta_s)\n",
    "\n",
    "for episode in tqdm(range(max_meta_epi)): #for each meta-episode\n",
    "    #reset environment\n",
    "    env.reset() \n",
    "    \n",
    "    for step in range(max_meta_steps):    #for each meta time step\n",
    "        #--------------------------------------START OF INNER GAME--------------------------------------            \n",
    "        #for each inner episodes            \n",
    "        for epi in range(max_inner_epi):                 \n",
    "            for t in range(max_inner_steps):                     #for each inner timestep\n",
    "                if t == 0:\n",
    "                    #initialise action by random, of size [agents, batch_size]\n",
    "                    best_action = env.init_action.detach().clone()  \n",
    "                else:\n",
    "                    #find action that has max Q value for current state for both agents ??????? will never step here\n",
    "                    best_action = env.select_action().detach().clone()     \n",
    "                \n",
    "                #run inner game according to that action, for K episodes & T timesteps, output used to be new_state, reward, done, _ \n",
    "                reward, info = env.step(best_action)  \n",
    "                \n",
    "                #trajectory only comprises of (best_action, [reward,info])     \n",
    "                traj[epi,t] = torch.cat((best_action, reward.unsqueeze(0), info.unsqueeze(0)), dim=0)\n",
    "                our_rew += reward.reshape(-1)\n",
    "                oppo_rew += info.reshape(-1)\n",
    "\n",
    "                #update inner r matrix\n",
    "                env.innerr[0, best_action[0]] = reward.detach().clone()\n",
    "                env.innerr[1, best_action[1]] = info.detach().clone()\n",
    "\n",
    "                env.innerq[0, best_action[0]] = env.innerr[0, best_action[0]] + inner_gamma * torch.max(env.innerq[0, best_action[0]]) \n",
    "                env.innerq[1, best_action[1]] = env.innerr[1, best_action[1]] + inner_gamma * torch.max(env.innerq[1, best_action[1]])\n",
    "                \n",
    "                inner_state = best_action\n",
    "        \n",
    "        #---------------------------------------END OF INNER GAME---------------------------------          \n",
    "        #save reward, info for plotting              \n",
    "        plot_rew[episode,step,0] = reward.detach().clone()\n",
    "        plot_rew[episode,step,1] = info.detach().clone()\n",
    "        \n",
    "        #meta-action = argmaxQ(s,:)\n",
    "        lis = rmax.Q[rmax.find_meta_index( torch.flatten(meta_s)),:]\n",
    "        meta_a = random.choice(torch.argwhere(lis == torch.max(lis)).to(device)) \n",
    "        memory.actions.append(meta_a)\n",
    "        \n",
    "        #meta-reward = sum of inner rewards of our agent over K episodes & T timesteps\n",
    "        #meta_r = torch.round(our_rew, decimals = radius_dp)  \n",
    "        meta_r = torch.round(our_rew).to(device)  \n",
    "        memory.rewards.append(meta_r)\n",
    "        \n",
    "        #next-meta-state = trajectorty\n",
    "        #next_meta_s = torch.round(traj, decimals = radius_dp).long().to(device)  \n",
    "        next_meta_s = torch.round(traj).long().to(device) \n",
    "        memory.states.append(next_meta_s)\n",
    "        \n",
    "        #Rmax update step\n",
    "        rmax.update(env, memory, meta_s, meta_a, next_meta_s)\n",
    "        \n"
   ]
  },
  {
   "cell_type": "code",
   "execution_count": null,
   "metadata": {},
   "outputs": [],
   "source": []
  },
  {
   "cell_type": "code",
   "execution_count": null,
   "metadata": {},
   "outputs": [],
   "source": [
    "#generate histogram\n",
    "visit_dict = {}\n",
    "for i in range(len(rmax.nSA.flatten().tolist())):\n",
    "    visit_dict[i]= rmax.nSA.flatten().tolist()[i]\n",
    "    \n",
    "histogram_dict = Counter(visit_dict.values())\n",
    "plt.bar(histogram_dict.keys(), histogram_dict.values(), 0.5, color='g')\n",
    "plt.xlabel(\"visitation counts: \" + str(histogram_dict), fontsize=12)\n",
    "figure0 = plt.gcf()\n",
    "figure0.set_size_inches(10, 8)\n",
    "plt.savefig('histogram at' + str(datetime.now()) + '.png')"
   ]
  }
 ],
 "metadata": {
  "colab": {
   "authorship_tag": "ABX9TyN2ZadiniE7gIAA2rNyJFVU",
   "collapsed_sections": [],
   "name": "Rmax.ipynb",
   "provenance": []
  },
  "kernelspec": {
   "display_name": "kittymfos",
   "language": "python",
   "name": "kittymfos"
  },
  "language_info": {
   "codemirror_mode": {
    "name": "ipython",
    "version": 3
   },
   "file_extension": ".py",
   "mimetype": "text/x-python",
   "name": "python",
   "nbconvert_exporter": "python",
   "pygments_lexer": "ipython3",
   "version": "3.8.13"
  }
 },
 "nbformat": 4,
 "nbformat_minor": 1
}
