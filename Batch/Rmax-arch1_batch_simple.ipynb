{
 "cells": [
  {
   "cell_type": "code",
   "execution_count": 19,
   "id": "e526821e",
   "metadata": {},
   "outputs": [
    {
     "data": {
      "text/html": [
       "<style>.container { width:100% !important; }</style>"
      ],
      "text/plain": [
       "<IPython.core.display.HTML object>"
      ]
     },
     "metadata": {},
     "output_type": "display_data"
    }
   ],
   "source": [
    "from IPython.display import display, HTML\n",
    "display(HTML(\"<style>.container { width:100% !important; }</style>\"))\n"
   ]
  },
  {
   "cell_type": "code",
   "execution_count": 1,
   "id": "4723bfc5",
   "metadata": {},
   "outputs": [],
   "source": [
    "import matplotlib.pyplot as plt\n",
    "import numpy as np\n",
    "import math\n",
    "import scipy\n",
    "from scipy.special import softmax\n",
    "import random\n",
    "import pickle\n",
    "from datetime import datetime\n",
    "from collections import Counter\n",
    "\n",
    "from tqdm import tqdm\n",
    "\n",
    "import gym\n",
    "from gym.spaces import Discrete, Tuple\n",
    "\n",
    "from env_mp_simple import MetaGamesSimple\n",
    "from rmax_1_batch_simple import RmaxAgent, Memory\n",
    "\n",
    "def discretize(number, radius):\n",
    "    #[0,3,5,4,8] --> [0,3,6,3,9] for radius 3\n",
    "    return np.round(np.divide(number, radius)) * radius\n",
    "\n",
    "def Boltzmann(arr):\n",
    "    #0.5 is just a temperature parameter, controls the spread of the softmax distribution\n",
    "    action_value = np.zeros(arr.shape[0])\n",
    "    prob = softmax(arr/0.4, 1)\n",
    "    for b in range(arr.shape[0]):\n",
    "        action_value[b] = np.random.choice(np.arange(arr.shape[1]), p=prob[b])\n",
    "    return action_value"
   ]
  },
  {
   "cell_type": "code",
   "execution_count": 2,
   "id": "81daceee",
   "metadata": {},
   "outputs": [],
   "source": [
    "bs = 2\n",
    "inner_gamma = 0         #inner game discount factor, 0 since it's a one shot game\n",
    "meta_gamma = 0.99          #meta game discount factor\n",
    "meta_alpha = 0.4          #meta game learning rate\n",
    "R_max = 1\n",
    "rmax_error = 0.5\n",
    "meta_epi = 50\n",
    "meta_steps = 50\n",
    "\n",
    "epsilon = 0.2\n",
    "radius = 10000              #radius for discretization, assuming radius>1"
   ]
  },
  {
   "cell_type": "code",
   "execution_count": 3,
   "id": "81c8602a",
   "metadata": {},
   "outputs": [],
   "source": [
    "#reward tensor for plotting purposes [bs, episode, step, agents]\n",
    "plot_rew = np.zeros((bs, meta_epi, meta_steps, 2))\n",
    "\n",
    "# creating environment\n",
    "env = MetaGamesSimple(bs, radius)\n",
    "\n",
    "# creating rmax agent\n",
    "memory = Memory()\n",
    "rmax = RmaxAgent(R_max, bs, meta_steps, meta_gamma, inner_gamma, radius, epsilon, rmax_error)"
   ]
  },
  {
   "cell_type": "code",
   "execution_count": null,
   "id": "6de80323",
   "metadata": {},
   "outputs": [
    {
     "name": "stderr",
     "output_type": "stream",
     "text": [
      " 12%|████████▉                                                                 | 6/50 [00:06<00:47,  1.09s/it]"
     ]
    }
   ],
   "source": [
    "for episode in tqdm(range(meta_epi)): #for each meta-episode\n",
    "    #reset environment \n",
    "    #initialise meta-state and meta-action randomly\n",
    "    meta_s = env.reset()\n",
    "    memory.states.append(meta_s)\n",
    "   \n",
    "    for step in range(meta_steps):    #for each meta time step\n",
    "        #--------------------------------------START OF INNER GAME--------------------------------------  \n",
    "        #select our inner-action with Boltzmann sampling, oppo inner-action with epsilon greedy \n",
    "        our_action = np.reshape(np.argmax(rmax.Q[np.arange(bs), rmax.find_meta_index(meta_s, \"s\").astype(int), :], axis=1), (bs, 1))\n",
    "        \n",
    "        #print(\"inner actions: \", our_action, oppo_action)\n",
    "        #run inner game according to actions\n",
    "        obs, reward, done, _ = env.step(our_action) \n",
    "\n",
    "        #update inner r matrix [agent, action]\n",
    "        our_innerr = np.transpose(np.stack([our_action, our_action]) * reward)\n",
    "        our_innerq = rmax.select_action(meta_s)\n",
    "        #---------------------------------------END OF INNER GAME--------------------------------------\n",
    "        \n",
    "        #save reward, info for plotting              \n",
    "        plot_rew[:,episode,step,0] = reward.squeeze()\n",
    "        plot_rew[:,episode,step,1] = 1-reward.squeeze()\n",
    "\n",
    "        #meta-action = action that corresponds to max Q(meta_s) = our inner Q\n",
    "        meta_a = our_innerq\n",
    "        memory.actions.append(meta_a) \n",
    "\n",
    "        #meta-state = discretized inner game Q table of all agents\n",
    "        new_meta_s = obs\n",
    "        memory.states.append(new_meta_s)    \n",
    "\n",
    "        #meta-reward = sum of rewards of our agent in inner game of K episodes & T timesteps\n",
    "        our_REW = reward               \n",
    "        memory.rewards.append(our_REW)\n",
    "\n",
    "        #rmax update step\n",
    "        rmax.update(memory, meta_s, meta_a, new_meta_s)\n",
    "\n",
    "        #print(\"updating s-a pair:\", rmax.find_meta_index( torch.flatten(meta_s)), rmax.find_meta_index( torch.flatten(meta_a)),\"\\nrmax.R: \", rmax.R, \"\\nrmax.Q: \", rmax.Q, \"\\nrmax.nSA: \", rmax.nSA)\n",
    "        #print(meta_s, meta_a, new_meta_s)\n",
    "\n",
    "        #prepare meta_s for next step\n",
    "        meta_s = new_meta_s\n"
   ]
  },
  {
   "cell_type": "code",
   "execution_count": 20,
   "id": "5108f2f4",
   "metadata": {},
   "outputs": [],
   "source": [
    "state = meta_s\n",
    "self=rmax\n",
    "rand_from_poss_max = np.zeros(self.bs) \n",
    "if np.random.random() < self.epsilon:   \n",
    "    action = self.index_to_table(np.random.randint(self.na, size=(self.bs, )))\n",
    "\n",
    "else:\n",
    "    #find maximum action index, given state, makes sure if indices have same Q value, randomise\n",
    "    lis = self.Q[range(self.bs), self.find_meta_index(state, \"s\").astype(int), :]\n",
    "    for b in range(self.bs):\n",
    "        if len(np.argwhere(lis[b] == np.max(lis[b]))) < 2:   #when there's only 1 max value\n",
    "            rand_from_poss_max[b] = np.argwhere(lis[b] == np.max(lis[b]))\n",
    "        else:\n",
    "            rand_from_poss_max[b] = np.random.choice(np.argwhere(lis[b] == np.max(lis[b])).squeeze())\n",
    "\n",
    "    action = rand_from_poss_max"
   ]
  },
  {
   "cell_type": "code",
   "execution_count": 5,
   "id": "217cf515",
   "metadata": {},
   "outputs": [],
   "source": [
    "self=rmax\n",
    "rand_from_poss_max = np.zeros(self.bs) \n",
    "#find maximum action index, given state, makes sure if indices have same Q value, randomise\n",
    "lis = self.Q[range(self.bs), self.find_meta_index(meta_s, \"s\").astype(int), :]\n",
    "for b in range(self.bs):\n",
    "    if len(np.argwhere(lis[b] == np.max(lis[b]))) < 2:   #when there's only 1 max value\n",
    "        rand_from_poss_max[b] = np.argwhere(lis[b] == np.max(lis[b]))\n",
    "    else:\n",
    "        rand_from_poss_max[b] = np.random.choice(np.argwhere(lis[b] == np.max(lis[b])).squeeze())\n",
    "\n",
    "action = rand_from_poss_max"
   ]
  },
  {
   "cell_type": "code",
   "execution_count": 12,
   "id": "13c00b2d",
   "metadata": {},
   "outputs": [
    {
     "data": {
      "text/plain": [
       "array([3., 3.])"
      ]
     },
     "execution_count": 12,
     "metadata": {},
     "output_type": "execute_result"
    }
   ],
   "source": [
    "action"
   ]
  },
  {
   "cell_type": "code",
   "execution_count": 6,
   "id": "acdf9fbe",
   "metadata": {},
   "outputs": [],
   "source": [
    "Q_size = 2\n",
    "reconstruct = np.zeros((self.bs, Q_size))\n",
    "\n",
    "q1, mod1 = np.divmod(action, 2)\n",
    "#reconstruct[:, 1] = q1*self.radius\n",
    "#reconstruct[:, 0] = mod1*self.radius\n"
   ]
  },
  {
   "cell_type": "code",
   "execution_count": 7,
   "id": "d3a3450d",
   "metadata": {},
   "outputs": [
    {
     "data": {
      "text/plain": [
       "array([1., 1.])"
      ]
     },
     "execution_count": 7,
     "metadata": {},
     "output_type": "execute_result"
    }
   ],
   "source": [
    "q1"
   ]
  },
  {
   "cell_type": "code",
   "execution_count": 7,
   "id": "3b859b42",
   "metadata": {},
   "outputs": [],
   "source": [
    "self=rmax\n",
    "action_mapped = self.find_meta_index(meta_a, \"a\").astype(int)\n",
    "state_mapped = self.find_meta_index(meta_s, \"s\").astype(int)\n",
    "next_state_mapped = self.find_meta_index(new_meta_s, \"s\").astype(int)\n",
    "idx00 = np.argwhere(self.nSA[np.arange(self.bs), state_mapped, action_mapped] < self.m)\n",
    "\n",
    "#filter for nSA=0\n",
    "idx01 = np.argwhere((self.nSA[np.arange(self.bs), state_mapped, action_mapped] < self.m) & (self.nSA[np.arange(self.bs), state_mapped, action_mapped] == 0))\n",
    "#filter for 0<nSA<m\n",
    "idx02 = np.argwhere((self.nSA[np.arange(self.bs), state_mapped, action_mapped] < self.m) & (self.nSA[np.arange(self.bs), state_mapped, action_mapped] > 0))"
   ]
  },
  {
   "cell_type": "code",
   "execution_count": 20,
   "id": "483262d5",
   "metadata": {},
   "outputs": [
    {
     "data": {
      "text/plain": [
       "(2, 1)"
      ]
     },
     "execution_count": 20,
     "metadata": {},
     "output_type": "execute_result"
    }
   ],
   "source": [
    "memory.rewards[-1][idx01].squeeze(axis=1).shape"
   ]
  },
  {
   "cell_type": "code",
   "execution_count": null,
   "id": "205f5e6c",
   "metadata": {},
   "outputs": [],
   "source": [
    "# Open a file and use dump()\n",
    "with open('plot_rew' + str(datetime.now()) + '.pkl', 'wb') as file:\n",
    "      \n",
    "    # A new file will be created\n",
    "    pickle.dump(plot_rew, file)\n",
    "    \n",
    "# Open a file and use dump()\n",
    "with open('memory' + str(datetime.now()) + '.pkl', 'wb') as file:\n",
    "      \n",
    "    # A new file will be created\n",
    "    pickle.dump(memory, file)\n",
    "\n",
    "# Open a file and use dump()\n",
    "with open('rmax' + str(datetime.now()) + '.pkl', 'wb') as file:\n",
    "      \n",
    "    # A new file will be created\n",
    "    pickle.dump(rmax, file)"
   ]
  },
  {
   "cell_type": "markdown",
   "id": "05a337d9",
   "metadata": {},
   "source": [
    "# Plots"
   ]
  },
  {
   "cell_type": "code",
   "execution_count": 16,
   "id": "46f78211",
   "metadata": {},
   "outputs": [
    {
     "data": {
      "image/png": "[encoded data removed]",
      "text/plain": [
       "<Figure size 1000x800 with 1 Axes>"
      ]
     },
     "metadata": {},
     "output_type": "display_data"
    }
   ],
   "source": [
    "#generate histogram\n",
    "visit_dict = {}\n",
    "for i in range(len(rmax.nSA.flatten().tolist())):\n",
    "    visit_dict[i]= rmax.nSA.flatten().tolist()[i]\n",
    "    \n",
    "histogram_dict = Counter(visit_dict.values())\n",
    "plt.bar(histogram_dict.keys(), histogram_dict.values(), 0.5, color='g')\n",
    "plt.xlabel(\"visitation counts: \" + str(histogram_dict), fontsize=12)\n",
    "figure0 = plt.gcf()\n",
    "figure0.set_size_inches(10, 8)\n",
    "plt.savefig('histogram at' + str(datetime.now()) + '.png')"
   ]
  },
  {
   "cell_type": "code",
   "execution_count": 14,
   "id": "7facf934",
   "metadata": {},
   "outputs": [
    {
     "data": {
      "text/plain": [
       "<Figure size 1000x800 with 0 Axes>"
      ]
     },
     "metadata": {},
     "output_type": "display_data"
    }
   ],
   "source": [
    "#generate reward mean\n",
    "plot_rew_mean = torch.mean(plot_rew[:,:,0],1)\n",
    "fig_handle = plt.plot(plot_rew_mean.cpu().numpy())\n",
    "\n",
    "plt.xlabel(\"episodes \\n Average reward of our agent: \" + str(round(torch.mean(plot_rew[:,:,0],(0,1)).detach().item(), 3)) + \n",
    "          \"\\n Average reward of another agent: \" + str(round(torch.mean(plot_rew[:,:,1],(0,1)).detach().item(), 3)))\n",
    "\n",
    "plt.ylabel(\"Mean rewards\")\n",
    "\n",
    "figure2 = plt.gcf() # get current figure\n",
    "figure2.set_size_inches(10, 8)\n",
    "\n",
    "plt.savefig('inner_gamma' + str(inner_gamma) + '_rad' + str(radius) + '_' + str(meta_epi) + '_' + str(meta_steps) + '_mp1.png'  , dpi = 100)\n",
    "plt.clf()\n"
   ]
  },
  {
   "cell_type": "code",
   "execution_count": 15,
   "id": "ac1eb558",
   "metadata": {},
   "outputs": [
    {
     "data": {
      "text/plain": [
       "<Figure size 1000x800 with 0 Axes>"
      ]
     },
     "metadata": {},
     "output_type": "display_data"
    }
   ],
   "source": [
    "#generate learning curve at start\n",
    "plot_rew_epi_start = torch.mean(plot_rew[:int(meta_epi*0.1), :, 0], 0)\n",
    "fig_handle = plt.plot(plot_rew_epi_start.cpu().numpy())\n",
    "\n",
    "plt.xlabel(\"steps\")\n",
    "\n",
    "plt.ylabel(\"Average learning rate of first \" + str(int(meta_epi*0.1)) + \" episodes\")\n",
    "\n",
    "figure3 = plt.gcf() # get current figure\n",
    "figure3.set_size_inches(10, 8)\n",
    "\n",
    "plt.savefig('inner_gamma' + str(inner_gamma) + '_rad' + str(radius) + '_' + str(meta_epi) + '_' + str(meta_steps) + '_first_epi_mp1.png' , dpi = 100)\n",
    "plt.clf()"
   ]
  },
  {
   "cell_type": "code",
   "execution_count": 16,
   "id": "7cd430b4",
   "metadata": {},
   "outputs": [
    {
     "data": {
      "text/plain": [
       "<Figure size 1000x800 with 0 Axes>"
      ]
     },
     "metadata": {},
     "output_type": "display_data"
    }
   ],
   "source": [
    "#generate learning curve at end\n",
    "plot_rew_epi_end = torch.mean(plot_rew[-int(meta_epi*0.1):, :, 0], 0)\n",
    "fig_handle = plt.plot(plot_rew_epi_end.cpu().numpy())\n",
    "\n",
    "plt.xlabel(\"steps\")\n",
    "\n",
    "plt.ylabel(\"Average learning rate of last \" + str(int(meta_epi*0.1)) + \" episodes\")\n",
    "\n",
    "figure4 = plt.gcf() # get current figure\n",
    "figure4.set_size_inches(10, 8)\n",
    "\n",
    "plt.savefig('inner_gamma' + str(inner_gamma) + '_rad' + str(radius) + '_' + str(meta_epi) + '_' + str(meta_steps) + '_last_epi_mp1.png' , dpi = 100)\n",
    "plt.clf()"
   ]
  },
  {
   "cell_type": "markdown",
   "id": "15965877",
   "metadata": {},
   "source": [
    "# Interpreting results "
   ]
  },
  {
   "cell_type": "code",
   "execution_count": null,
   "id": "b8e32364",
   "metadata": {},
   "outputs": [],
   "source": [
    "\n",
    "import glob\n",
    "path1 = \"memory*.pkl\"\n",
    "path2 = \"plot_rew*.pkl\"\n",
    "path3 = \"rmax*.pkl\"\n",
    "for filename in glob.glob(path1):\n",
    "    with open(filename, 'rb') as f:\n",
    "        memory = pickle.load(f)\n",
    "        \n",
    "for filename in glob.glob(path2):    \n",
    "    with open(filename, 'rb') as g:\n",
    "        plot_rew = pickle.load(g)\n",
    "        \n",
    "for filename in glob.glob(path3):    \n",
    "    with open(filename, 'rb') as g:\n",
    "        rmax = pickle.load(g)        "
   ]
  }
 ],
 "metadata": {
  "kernelspec": {
   "display_name": "kittymfos",
   "language": "python",
   "name": "kittymfos"
  },
  "language_info": {
   "codemirror_mode": {
    "name": "ipython",
    "version": 3
   },
   "file_extension": ".py",
   "mimetype": "text/x-python",
   "name": "python",
   "nbconvert_exporter": "python",
   "pygments_lexer": "ipython3",
   "version": "3.8.13"
  }
 },
 "nbformat": 4,
 "nbformat_minor": 5
}
