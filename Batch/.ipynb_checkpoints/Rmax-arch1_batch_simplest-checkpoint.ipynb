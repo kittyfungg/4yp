{
 "cells": [
  {
   "cell_type": "code",
   "execution_count": 1,
   "id": "e526821e",
   "metadata": {},
   "outputs": [
    {
     "data": {
      "text/html": [
       "<style>.container { width:100% !important; }</style>"
      ],
      "text/plain": [
       "<IPython.core.display.HTML object>"
      ]
     },
     "metadata": {},
     "output_type": "display_data"
    }
   ],
   "source": [
    "from IPython.display import display, HTML\n",
    "display(HTML(\"<style>.container { width:100% !important; }</style>\"))\n"
   ]
  },
  {
   "cell_type": "code",
   "execution_count": 1,
   "id": "4723bfc5",
   "metadata": {},
   "outputs": [],
   "source": [
    "import matplotlib.pyplot as plt\n",
    "import numpy as np\n",
    "import math\n",
    "import scipy\n",
    "from scipy.special import softmax\n",
    "import random\n",
    "import pickle\n",
    "from datetime import datetime\n",
    "from collections import Counter\n",
    "\n",
    "from tqdm import tqdm\n",
    "\n",
    "import gym\n",
    "from gym.spaces import Discrete, Tuple\n",
    "\n",
    "from env_mp_simple import MetaGamesSimplest\n",
    "from rmax_1_batch import RmaxAgent, Memory\n",
    "\n",
    "def discretize(number, radius):\n",
    "    #[0,3,5,4,8] --> [0,3,6,3,9] for radius 3\n",
    "    return np.round(np.divide(number, radius)) * radius\n",
    "\n",
    "def Boltzmann(arr):\n",
    "    #0.5 is just a temperature parameter, controls the spread of the softmax distribution\n",
    "    action_value = np.zeros(arr.shape[0])\n",
    "    prob = softmax(arr/0.4, 1)\n",
    "    for b in range(arr.shape[0]):\n",
    "        action_value[b] = np.random.choice(np.arange(arr.shape[1]), p=prob[b])\n",
    "    return action_value"
   ]
  },
  {
   "cell_type": "code",
   "execution_count": 2,
   "id": "81daceee",
   "metadata": {},
   "outputs": [],
   "source": [
    "bs = 1\n",
    "inner_gamma = 0         #inner game discount factor, 0 since it's a one shot game\n",
    "meta_gamma = 0         #meta game discount factor\n",
    "meta_alpha = 0.4          #meta game learning rate\n",
    "R_max = 1\n",
    "rmax_error = 0.5\n",
    "meta_epi = 300\n",
    "meta_steps = 5\n",
    "\n",
    "epsilon = 0\n",
    "radius = 1              #radius for discretization, assuming radius>1"
   ]
  },
  {
   "cell_type": "code",
   "execution_count": 3,
   "id": "81c8602a",
   "metadata": {},
   "outputs": [],
   "source": [
    "#reward tensor for plotting purposes [bs, episode, step, agents]\n",
    "plot_rew = np.zeros((bs, meta_epi, meta_steps, 2))\n",
    "\n",
    "# creating environment\n",
    "env = MetaGamesSimplest(bs)\n",
    "\n",
    "# creating rmax agent\n",
    "memory = Memory()\n",
    "rmax = RmaxAgent(R_max, bs, meta_steps, meta_gamma, inner_gamma, radius, epsilon, rmax_error)"
   ]
  },
  {
   "cell_type": "code",
   "execution_count": 4,
   "id": "6de80323",
   "metadata": {},
   "outputs": [
    {
     "name": "stderr",
     "output_type": "stream",
     "text": [
      "  0%|                                                                                 | 0/300 [00:00<?, ?it/s]\n"
     ]
    },
    {
     "ename": "ValueError",
     "evalue": "The truth value of an array with more than one element is ambiguous. Use a.any() or a.all()",
     "output_type": "error",
     "traceback": [
      "\u001b[0;31m---------------------------------------------------------------------------\u001b[0m",
      "\u001b[0;31mValueError\u001b[0m                                Traceback (most recent call last)",
      "Cell \u001b[0;32mIn [4], line 43\u001b[0m\n\u001b[1;32m     40\u001b[0m memory\u001b[38;5;241m.\u001b[39mrewards\u001b[38;5;241m.\u001b[39mappend(our_REW)\n\u001b[1;32m     42\u001b[0m \u001b[38;5;66;03m#rmax update step\u001b[39;00m\n\u001b[0;32m---> 43\u001b[0m \u001b[43mrmax\u001b[49m\u001b[38;5;241;43m.\u001b[39;49m\u001b[43mupdate\u001b[49m\u001b[43m(\u001b[49m\u001b[43mmemory\u001b[49m\u001b[43m,\u001b[49m\u001b[43m \u001b[49m\u001b[43mmeta_s\u001b[49m\u001b[43m,\u001b[49m\u001b[43m \u001b[49m\u001b[43mmeta_a\u001b[49m\u001b[43m,\u001b[49m\u001b[43m \u001b[49m\u001b[43mnew_meta_s\u001b[49m\u001b[43m)\u001b[49m\n\u001b[1;32m     45\u001b[0m \u001b[38;5;28;01mif\u001b[39;00m step:\n\u001b[1;32m     46\u001b[0m     \u001b[38;5;28;01mif\u001b[39;00m \u001b[38;5;129;01mnot\u001b[39;00m(reward\u001b[38;5;241m==\u001b[39m\u001b[38;5;241m1\u001b[39m):\n",
      "File \u001b[0;32m~/Desktop/Work/Batch/rmax_1_batch.py:128\u001b[0m, in \u001b[0;36mRmaxAgent.update\u001b[0;34m(self, memory, state, action, next_state)\u001b[0m\n\u001b[1;32m    125\u001b[0m \u001b[38;5;28;01mfor\u001b[39;00m i \u001b[38;5;129;01min\u001b[39;00m \u001b[38;5;28mrange\u001b[39m(\u001b[38;5;28mself\u001b[39m\u001b[38;5;241m.\u001b[39mm):\n\u001b[1;32m    127\u001b[0m     idx11 \u001b[38;5;241m=\u001b[39m np\u001b[38;5;241m.\u001b[39margwhere(\u001b[38;5;28mself\u001b[39m\u001b[38;5;241m.\u001b[39mnSA[:,:,:] \u001b[38;5;241m>\u001b[39m\u001b[38;5;241m=\u001b[39m \u001b[38;5;28mself\u001b[39m\u001b[38;5;241m.\u001b[39mm)\n\u001b[0;32m--> 128\u001b[0m     \u001b[38;5;28;01mif\u001b[39;00m \u001b[38;5;28;43many\u001b[39;49m\u001b[43m(\u001b[49m\u001b[43midx11\u001b[49m\u001b[43m)\u001b[49m\u001b[38;5;241m==\u001b[39m\u001b[38;5;28;01mTrue\u001b[39;00m:\n\u001b[1;32m    129\u001b[0m         q \u001b[38;5;241m=\u001b[39m \u001b[38;5;28mself\u001b[39m\u001b[38;5;241m.\u001b[39mR[idx11[:, \u001b[38;5;241m0\u001b[39m], idx11[:, \u001b[38;5;241m1\u001b[39m], idx11[:, \u001b[38;5;241m2\u001b[39m]]\u001b[38;5;241m/\u001b[39m \u001b[38;5;28mself\u001b[39m\u001b[38;5;241m.\u001b[39mnSA[idx11[:, \u001b[38;5;241m0\u001b[39m], idx11[:, \u001b[38;5;241m1\u001b[39m], idx11[:, \u001b[38;5;241m2\u001b[39m]]\n\u001b[1;32m    131\u001b[0m         \u001b[38;5;28;01mfor\u001b[39;00m next_s \u001b[38;5;129;01min\u001b[39;00m \u001b[38;5;28mrange\u001b[39m(\u001b[38;5;28mself\u001b[39m\u001b[38;5;241m.\u001b[39mns):\n",
      "\u001b[0;31mValueError\u001b[0m: The truth value of an array with more than one element is ambiguous. Use a.any() or a.all()"
     ]
    }
   ],
   "source": [
    "#ourinnerq = np.zeros((bs, 2))\n",
    "for episode in tqdm(range(meta_epi)): #for each meta-episode\n",
    "    #reset environment \n",
    "    #initialise meta-state and meta-action randomly\n",
    "    meta_s = env.reset()\n",
    "    memory.states.append(meta_s)\n",
    "   \n",
    "    for step in range(meta_steps):    #for each meta time step\n",
    "        #--------------------------------------START OF INNER GAME--------------------------------------  \n",
    "        #select our inner-action with Boltzmann sampling, oppo inner-action with epsilon greedy \n",
    "        our_action = np.argmax(rmax.Q[np.arange(bs), rmax.find_meta_index(meta_s, \"s\").astype(int), :], axis=1)\n",
    "        \n",
    "        #print(\"inner actions: \", our_action, oppo_action)\n",
    "        #run inner game according to actions\n",
    "        obs, reward, done, _ = env.step(our_action) \n",
    "\n",
    "        #update inner r matrix [agent, action]\n",
    "        our_innerr = np.transpose(np.stack([our_action, 1-our_action]) * reward)\n",
    "        \n",
    "        #---------------------------------------END OF INNER GAME--------------------------------------\n",
    "        #save reward, info for plotting              \n",
    "        plot_rew[:,episode,step,0] = reward\n",
    "        plot_rew[:,episode,step,1] = 1-reward\n",
    "        \n",
    "        #Compute new inner Q table, our agent: meta_a that corresponds to max Q(meta_s)/ random, oppo: by Q learning\n",
    "        #ourinnerq = rmax.select_action(meta_s, -1).squeeze()\n",
    "        \n",
    "        #print(\"inner-r: \", reward, \"\\n inner-q: \", env.innerq)\n",
    "\n",
    "        #meta-action = action that corresponds to max Q(meta_s) = our inner Q\n",
    "        meta_a = our_action\n",
    "        memory.actions.append(meta_a) \n",
    "\n",
    "        #meta-state = discretized inner game Q table of all agents\n",
    "        new_meta_s = obs\n",
    "        memory.states.append(new_meta_s)    \n",
    "\n",
    "        #meta-reward = sum of rewards of our agent in inner game of K episodes & T timesteps\n",
    "        our_REW = reward               \n",
    "        memory.rewards.append(our_REW)\n",
    "\n",
    "        #rmax update step\n",
    "        rmax.update(memory, meta_s, meta_a, new_meta_s)\n",
    "        \n",
    "        if step:\n",
    "            if not(reward==1):\n",
    "                rmax.R[obs][best_action]=-10\n",
    "            break\n",
    "        #print(\"updating s-a pair:\", rmax.find_meta_index( torch.flatten(meta_s)), rmax.find_meta_index( torch.flatten(meta_a)),\"\\nrmax.R: \", rmax.R, \"\\nrmax.Q: \", rmax.Q, \"\\nrmax.nSA: \", rmax.nSA)\n",
    "        #print(meta_s, meta_a, new_meta_s)\n",
    "\n",
    "        #prepare meta_s for next step\n",
    "        meta_s = new_meta_s\n"
   ]
  },
  {
   "cell_type": "code",
   "execution_count": 5,
   "id": "850e6c8c",
   "metadata": {},
   "outputs": [
    {
     "data": {
      "text/plain": [
       "True"
      ]
     },
     "execution_count": 5,
     "metadata": {},
     "output_type": "execute_result"
    }
   ],
   "source": [
    "self=rmax\n",
    "idx11 = np.argwhere(self.nSA[:,:,:] >= self.m)\n",
    "idx11.any()==True"
   ]
  },
  {
   "cell_type": "code",
   "execution_count": 6,
   "id": "be9caafe",
   "metadata": {},
   "outputs": [
    {
     "data": {
      "text/plain": [
       "array([1.])"
      ]
     },
     "execution_count": 6,
     "metadata": {},
     "output_type": "execute_result"
    }
   ],
   "source": [
    "self.R[idx11[:, 0], idx11[:, 1], idx11[:, 2]]"
   ]
  },
  {
   "cell_type": "code",
   "execution_count": 12,
   "id": "205f5e6c",
   "metadata": {},
   "outputs": [],
   "source": [
    "# Open a file and use dump()\n",
    "with open('plot_rew' + str(datetime.now()) + '.pkl', 'wb') as file:\n",
    "      \n",
    "    # A new file will be created\n",
    "    pickle.dump(plot_rew, file)\n",
    "    \n",
    "# Open a file and use dump()\n",
    "with open('memory' + str(datetime.now()) + '.pkl', 'wb') as file:\n",
    "      \n",
    "    # A new file will be created\n",
    "    pickle.dump(memory, file)\n",
    "\n",
    "# Open a file and use dump()\n",
    "with open('rmax' + str(datetime.now()) + '.pkl', 'wb') as file:\n",
    "      \n",
    "    # A new file will be created\n",
    "    pickle.dump(rmax, file)"
   ]
  },
  {
   "cell_type": "markdown",
   "id": "05a337d9",
   "metadata": {},
   "source": [
    "# Plots"
   ]
  },
  {
   "cell_type": "code",
   "execution_count": 9,
   "id": "9bed19df",
   "metadata": {},
   "outputs": [],
   "source": [
    "self = rmax\n",
    "action_mapped = self.find_meta_index(meta_a, \"a\").astype(int)\n",
    "state_mapped = self.find_meta_index(meta_s, \"s\").astype(int)\n",
    "next_state_mapped = self.find_meta_index(new_meta_s, \"s\").astype(int)\n",
    "idx00 = np.argwhere(self.nSA[np.arange(self.bs), state_mapped, action_mapped] < self.m)[0]\n",
    "idx01 = np.argwhere((self.nSA[np.arange(self.bs), state_mapped, action_mapped] < self.m) & (self.nSA[np.arange(self.bs), state_mapped, action_mapped] == 0))\n",
    "#filter for 0<nSA<m\n",
    "idx02 = np.argwhere((self.nSA[np.arange(self.bs), state_mapped, action_mapped] < self.m) & (self.nSA[np.arange(self.bs), state_mapped, action_mapped] > 0))"
   ]
  },
  {
   "cell_type": "code",
   "execution_count": 5,
   "id": "46f78211",
   "metadata": {},
   "outputs": [
    {
     "data": {
      "image/png": "[encoded data removed]",
      "text/plain": [
       "<Figure size 1000x800 with 1 Axes>"
      ]
     },
     "metadata": {},
     "output_type": "display_data"
    }
   ],
   "source": [
    "#generate histogram\n",
    "visit_dict = {}\n",
    "for i in range(len(rmax.nSA.flatten().tolist())):\n",
    "    visit_dict[i]= rmax.nSA.flatten().tolist()[i]\n",
    "    \n",
    "histogram_dict = Counter(visit_dict.values())\n",
    "plt.bar(histogram_dict.keys(), histogram_dict.values(), 0.5, color='g')\n",
    "plt.xlabel(\"visitation counts: \" + str(histogram_dict), fontsize=12)\n",
    "figure0 = plt.gcf()\n",
    "figure0.set_size_inches(10, 8)\n",
    "plt.savefig('histogram at' + str(datetime.now()) + '.png')"
   ]
  },
  {
   "cell_type": "code",
   "execution_count": 12,
   "id": "7facf934",
   "metadata": {},
   "outputs": [
    {
     "data": {
      "image/png": "[encoded data removed]",
      "text/plain": [
       "<Figure size 1000x800 with 1 Axes>"
      ]
     },
     "metadata": {},
     "output_type": "display_data"
    }
   ],
   "source": [
    "#generate reward mean\n",
    "plot_rew_mean = np.mean(plot_rew[:,:,0], axis=1)\n",
    "fig_handle = plt.plot(plot_rew_mean)\n",
    "#reward at batch 0 only\n",
    "plt.xlabel(\"episodes \\n Average reward of our agent: \" + str(np.round(np.mean(plot_rew[0,:,:,0], 3))) + \n",
    "          \"\\n Average reward of another agent: \" + str(np.round(np.mean(plot_rew[0,:,:,1]), 3)))\n",
    "\n",
    "plt.ylabel(\"Mean rewards\")\n",
    "\n",
    "figure2 = plt.gcf() # get current figure\n",
    "figure2.set_size_inches(10, 8)\n",
    "\n",
    "#plt.savefig('inner_gamma' + str(inner_gamma) + '_rad' + str(radius) + '_' + str(meta_epi) + '_' + str(meta_steps) + '_mp1.png'  , dpi = 100)\n",
    "#plt.clf()\n"
   ]
  },
  {
   "cell_type": "code",
   "execution_count": 15,
   "id": "ac1eb558",
   "metadata": {},
   "outputs": [
    {
     "data": {
      "text/plain": [
       "<Figure size 1000x800 with 0 Axes>"
      ]
     },
     "metadata": {},
     "output_type": "display_data"
    }
   ],
   "source": [
    "#generate learning curve at start\n",
    "plot_rew_epi_start = torch.mean(plot_rew[:int(meta_epi*0.1), :, 0], 0)\n",
    "fig_handle = plt.plot(plot_rew_epi_start.cpu().numpy())\n",
    "\n",
    "plt.xlabel(\"steps\")\n",
    "\n",
    "plt.ylabel(\"Average learning rate of first \" + str(int(meta_epi*0.1)) + \" episodes\")\n",
    "\n",
    "figure3 = plt.gcf() # get current figure\n",
    "figure3.set_size_inches(10, 8)\n",
    "\n",
    "plt.savefig('inner_gamma' + str(inner_gamma) + '_rad' + str(radius) + '_' + str(meta_epi) + '_' + str(meta_steps) + '_first_epi_mp1.png' , dpi = 100)\n",
    "plt.clf()"
   ]
  },
  {
   "cell_type": "code",
   "execution_count": 16,
   "id": "7cd430b4",
   "metadata": {},
   "outputs": [
    {
     "data": {
      "text/plain": [
       "<Figure size 1000x800 with 0 Axes>"
      ]
     },
     "metadata": {},
     "output_type": "display_data"
    }
   ],
   "source": [
    "#generate learning curve at end\n",
    "plot_rew_epi_end = torch.mean(plot_rew[-int(meta_epi*0.1):, :, 0], 0)\n",
    "fig_handle = plt.plot(plot_rew_epi_end.cpu().numpy())\n",
    "\n",
    "plt.xlabel(\"steps\")\n",
    "\n",
    "plt.ylabel(\"Average learning rate of last \" + str(int(meta_epi*0.1)) + \" episodes\")\n",
    "\n",
    "figure4 = plt.gcf() # get current figure\n",
    "figure4.set_size_inches(10, 8)\n",
    "\n",
    "plt.savefig('inner_gamma' + str(inner_gamma) + '_rad' + str(radius) + '_' + str(meta_epi) + '_' + str(meta_steps) + '_last_epi_mp1.png' , dpi = 100)\n",
    "plt.clf()"
   ]
  },
  {
   "cell_type": "markdown",
   "id": "15965877",
   "metadata": {},
   "source": [
    "# Interpreting results "
   ]
  },
  {
   "cell_type": "code",
   "execution_count": null,
   "id": "b8e32364",
   "metadata": {},
   "outputs": [],
   "source": [
    "\n",
    "import glob\n",
    "path1 = \"memory*.pkl\"\n",
    "path2 = \"plot_rew*.pkl\"\n",
    "path3 = \"rmax*.pkl\"\n",
    "for filename in glob.glob(path1):\n",
    "    with open(filename, 'rb') as f:\n",
    "        memory = pickle.load(f)\n",
    "        \n",
    "for filename in glob.glob(path2):    \n",
    "    with open(filename, 'rb') as g:\n",
    "        plot_rew = pickle.load(g)\n",
    "        \n",
    "for filename in glob.glob(path3):    \n",
    "    with open(filename, 'rb') as g:\n",
    "        rmax = pickle.load(g)        "
   ]
  }
 ],
 "metadata": {
  "kernelspec": {
   "display_name": "kittymfos",
   "language": "python",
   "name": "kittymfos"
  },
  "language_info": {
   "codemirror_mode": {
    "name": "ipython",
    "version": 3
   },
   "file_extension": ".py",
   "mimetype": "text/x-python",
   "name": "python",
   "nbconvert_exporter": "python",
   "pygments_lexer": "ipython3",
   "version": "3.8.13"
  }
 },
 "nbformat": 4,
 "nbformat_minor": 5
}
