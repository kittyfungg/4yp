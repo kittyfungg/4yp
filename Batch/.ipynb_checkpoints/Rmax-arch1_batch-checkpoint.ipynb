{
 "cells": [
  {
   "cell_type": "code",
   "execution_count": 19,
   "id": "e526821e",
   "metadata": {},
   "outputs": [
    {
     "data": {
      "text/html": [
       "<style>.container { width:100% !important; }</style>"
      ],
      "text/plain": [
       "<IPython.core.display.HTML object>"
      ]
     },
     "metadata": {},
     "output_type": "display_data"
    }
   ],
   "source": [
    "from IPython.display import display, HTML\n",
    "display(HTML(\"<style>.container { width:100% !important; }</style>\"))\n"
   ]
  },
  {
   "cell_type": "code",
   "execution_count": 1,
   "id": "4723bfc5",
   "metadata": {},
   "outputs": [],
   "source": [
    "import matplotlib.pyplot as plt\n",
    "import numpy as np\n",
    "import math\n",
    "import scipy\n",
    "from scipy.special import softmax\n",
    "import random\n",
    "import pickle\n",
    "from datetime import datetime\n",
    "from collections import Counter\n",
    "\n",
    "from tqdm import tqdm\n",
    "\n",
    "import gym\n",
    "from gym.spaces import Discrete, Tuple\n",
    "\n",
    "from env_mp_simple import MetaGamesSimplest\n",
    "from rmax_1_batch import RmaxAgent, Memory\n",
    "\n",
    "def discretize(number, radius):\n",
    "    #[0,3,5,4,8] --> [0,3,6,3,9] for radius 3\n",
    "    return np.round(np.divide(number, radius)) * radius\n",
    "\n",
    "def Boltzmann(arr):\n",
    "    #0.5 is just a temperature parameter, controls the spread of the softmax distribution\n",
    "    action_value = np.zeros(arr.shape[0])\n",
    "    prob = softmax(arr/0.4, 1)\n",
    "    for b in range(arr.shape[0]):\n",
    "        action_value[b] = np.random.choice(np.arange(arr.shape[1]), p=prob[b])\n",
    "    return action_value"
   ]
  },
  {
   "cell_type": "code",
   "execution_count": 2,
   "id": "81daceee",
   "metadata": {},
   "outputs": [],
   "source": [
    "bs = 1024\n",
    "inner_gamma = 0         #inner game discount factor, 0 since it's a one shot game\n",
    "meta_gamma = 0.99          #meta game discount factor\n",
    "meta_alpha = 0.4          #meta game learning rate\n",
    "R_max = 1\n",
    "rmax_error = 0.1\n",
    "meta_epi = 5\n",
    "meta_steps = 5\n",
    "\n",
    "epsilon = 0\n",
    "radius = 1              #radius for discretization, assuming radius>1"
   ]
  },
  {
   "cell_type": "code",
   "execution_count": 3,
   "id": "81c8602a",
   "metadata": {},
   "outputs": [],
   "source": [
    "#reward tensor for plotting purposes [bs, episode, step, agents]\n",
    "plot_rew = np.zeros((bs, meta_epi, meta_steps, 2))\n",
    "\n",
    "# creating environment\n",
    "env = MetaGamesSimplest(bs)\n",
    "\n",
    "# creating rmax agent\n",
    "memory = Memory()\n",
    "rmax = RmaxAgent(R_max, bs, meta_steps, meta_gamma, inner_gamma, radius, epsilon, rmax_error)"
   ]
  },
  {
   "cell_type": "code",
   "execution_count": 4,
   "id": "6de80323",
   "metadata": {},
   "outputs": [
    {
     "name": "stderr",
     "output_type": "stream",
     "text": [
      "  0%|                                                                                   | 0/5 [00:00<?, ?it/s]\n"
     ]
    },
    {
     "ename": "IndexError",
     "evalue": "index 30 is out of bounds for axis 1 with size 20",
     "output_type": "error",
     "traceback": [
      "\u001b[0;31m---------------------------------------------------------------------------\u001b[0m",
      "\u001b[0;31mIndexError\u001b[0m                                Traceback (most recent call last)",
      "Cell \u001b[0;32mIn [4], line 11\u001b[0m\n\u001b[1;32m      6\u001b[0m memory\u001b[38;5;241m.\u001b[39mstates\u001b[38;5;241m.\u001b[39mappend(meta_s)\n\u001b[1;32m      8\u001b[0m \u001b[38;5;28;01mfor\u001b[39;00m step \u001b[38;5;129;01min\u001b[39;00m \u001b[38;5;28mrange\u001b[39m(meta_steps):    \u001b[38;5;66;03m#for each meta time step\u001b[39;00m\n\u001b[1;32m      9\u001b[0m     \u001b[38;5;66;03m#--------------------------------------START OF INNER GAME--------------------------------------  \u001b[39;00m\n\u001b[1;32m     10\u001b[0m     \u001b[38;5;66;03m#select our inner-action with Boltzmann sampling, oppo inner-action with epsilon greedy \u001b[39;00m\n\u001b[0;32m---> 11\u001b[0m     our_action \u001b[38;5;241m=\u001b[39m np\u001b[38;5;241m.\u001b[39margmax(\u001b[43mrmax\u001b[49m\u001b[38;5;241;43m.\u001b[39;49m\u001b[43mQ\u001b[49m\u001b[43m[\u001b[49m\u001b[43mnp\u001b[49m\u001b[38;5;241;43m.\u001b[39;49m\u001b[43marange\u001b[49m\u001b[43m(\u001b[49m\u001b[43mbs\u001b[49m\u001b[43m)\u001b[49m\u001b[43m,\u001b[49m\u001b[43m \u001b[49m\u001b[43mrmax\u001b[49m\u001b[38;5;241;43m.\u001b[39;49m\u001b[43mfind_meta_index\u001b[49m\u001b[43m(\u001b[49m\u001b[43mmeta_s\u001b[49m\u001b[43m,\u001b[49m\u001b[43m \u001b[49m\u001b[38;5;124;43m\"\u001b[39;49m\u001b[38;5;124;43ms\u001b[39;49m\u001b[38;5;124;43m\"\u001b[39;49m\u001b[43m)\u001b[49m\u001b[38;5;241;43m.\u001b[39;49m\u001b[43mastype\u001b[49m\u001b[43m(\u001b[49m\u001b[38;5;28;43mint\u001b[39;49m\u001b[43m)\u001b[49m\u001b[43m,\u001b[49m\u001b[43m \u001b[49m\u001b[43m:\u001b[49m\u001b[43m]\u001b[49m, axis\u001b[38;5;241m=\u001b[39m\u001b[38;5;241m1\u001b[39m)\n\u001b[1;32m     13\u001b[0m     \u001b[38;5;66;03m#print(\"inner actions: \", our_action, oppo_action)\u001b[39;00m\n\u001b[1;32m     14\u001b[0m     \u001b[38;5;66;03m#run inner game according to actions\u001b[39;00m\n\u001b[1;32m     15\u001b[0m     obs, reward, done, _ \u001b[38;5;241m=\u001b[39m env\u001b[38;5;241m.\u001b[39mstep(our_action) \n",
      "\u001b[0;31mIndexError\u001b[0m: index 30 is out of bounds for axis 1 with size 20"
     ]
    }
   ],
   "source": [
    "#ourinnerq = np.zeros((bs, 2))\n",
    "for episode in tqdm(range(meta_epi)): #for each meta-episode\n",
    "    #reset environment \n",
    "    #initialise meta-state and meta-action randomly\n",
    "    meta_s = env.reset()\n",
    "    memory.states.append(meta_s)\n",
    "   \n",
    "    for step in range(meta_steps):    #for each meta time step\n",
    "        #--------------------------------------START OF INNER GAME--------------------------------------  \n",
    "        #select our inner-action with Boltzmann sampling, oppo inner-action with epsilon greedy \n",
    "        our_action = np.argmax(rmax.Q[np.arange(bs), rmax.find_meta_index(meta_s, \"s\").astype(int), :], axis=1)\n",
    "        \n",
    "        #print(\"inner actions: \", our_action, oppo_action)\n",
    "        #run inner game according to actions\n",
    "        obs, reward, done, _ = env.step(our_action) \n",
    "\n",
    "        #update inner r matrix [agent, action]\n",
    "        our_innerr = np.transpose(np.stack([our_action, 1-our_action]) * reward)\n",
    "        \n",
    "        #---------------------------------------END OF INNER GAME--------------------------------------\n",
    "        #save reward, info for plotting              \n",
    "        plot_rew[:,episode,step,0] = reward\n",
    "        plot_rew[:,episode,step,1] = 1-reward\n",
    "        \n",
    "        #Compute new inner Q table, our agent: meta_a that corresponds to max Q(meta_s)/ random, oppo: by Q learning\n",
    "        #ourinnerq = rmax.select_action(meta_s, -1).squeeze()\n",
    "        \n",
    "        #print(\"inner-r: \", reward, \"\\n inner-q: \", env.innerq)\n",
    "\n",
    "        #meta-action = action that corresponds to max Q(meta_s) = our inner Q\n",
    "        meta_a = our_action\n",
    "        memory.actions.append(meta_a) \n",
    "\n",
    "        #meta-state = discretized inner game Q table of all agents\n",
    "        new_meta_s = obs\n",
    "        memory.states.append(new_meta_s)    \n",
    "\n",
    "        #meta-reward = sum of rewards of our agent in inner game of K episodes & T timesteps\n",
    "        our_REW = reward               \n",
    "        memory.rewards.append(our_REW)\n",
    "\n",
    "        #rmax update step\n",
    "        rmax.update(memory, meta_s, meta_a, new_meta_s)\n",
    "\n",
    "        #print(\"updating s-a pair:\", rmax.find_meta_index( torch.flatten(meta_s)), rmax.find_meta_index( torch.flatten(meta_a)),\"\\nrmax.R: \", rmax.R, \"\\nrmax.Q: \", rmax.Q, \"\\nrmax.nSA: \", rmax.nSA)\n",
    "        #print(meta_s, meta_a, new_meta_s)\n",
    "\n",
    "        #prepare meta_s for next step\n",
    "        meta_s = new_meta_s\n"
   ]
  },
  {
   "cell_type": "code",
   "execution_count": 5,
   "id": "f907a760",
   "metadata": {},
   "outputs": [
    {
     "data": {
      "text/plain": [
       "array([30, 30, 30, ..., 30, 30, 30])"
      ]
     },
     "execution_count": 5,
     "metadata": {},
     "output_type": "execute_result"
    }
   ],
   "source": [
    "rmax.find_meta_index(meta_s, \"s\").astype(int)"
   ]
  },
  {
   "cell_type": "code",
   "execution_count": 9,
   "id": "c370abfb",
   "metadata": {},
   "outputs": [],
   "source": [
    "meta = meta_s[:]\n",
    "self =rmax\n",
    "tr = (meta[:, 2]//self.radius) + (meta[:, 1]//self.radius)* 5 + (meta[:, 0]//self.radius)* 10"
   ]
  },
  {
   "cell_type": "code",
   "execution_count": 11,
   "id": "820c1eb1",
   "metadata": {},
   "outputs": [
    {
     "data": {
      "text/plain": [
       "array([0., 0., 0., ..., 0., 0., 0.])"
      ]
     },
     "execution_count": 11,
     "metadata": {},
     "output_type": "execute_result"
    }
   ],
   "source": [
    "meta_s[:,2]"
   ]
  },
  {
   "cell_type": "code",
   "execution_count": 10,
   "id": "1718f53b",
   "metadata": {},
   "outputs": [
    {
     "data": {
      "text/plain": [
       "array([30., 30., 30., ..., 30., 30., 30.])"
      ]
     },
     "execution_count": 10,
     "metadata": {},
     "output_type": "execute_result"
    }
   ],
   "source": [
    "tr"
   ]
  },
  {
   "cell_type": "code",
   "execution_count": 5,
   "id": "5a13a09e",
   "metadata": {},
   "outputs": [],
   "source": [
    "self=rmax\n",
    "action= meta_a\n",
    "state = meta_s\n",
    "next_state = new_meta_s\n",
    "\n",
    "action_mapped = self.find_meta_index(action, \"a\").astype(int)\n",
    "state_mapped = self.find_meta_index(state, \"s\").astype(int)\n",
    "next_state_mapped = self.find_meta_index(next_state, \"s\").astype(int)"
   ]
  },
  {
   "cell_type": "code",
   "execution_count": 20,
   "id": "88954cfb",
   "metadata": {},
   "outputs": [
    {
     "data": {
      "text/plain": [
       "array([ 9, 27,  0, ..., 27,  0,  0])"
      ]
     },
     "execution_count": 20,
     "metadata": {},
     "output_type": "execute_result"
    }
   ],
   "source": [
    "state_mapped\n"
   ]
  },
  {
   "cell_type": "code",
   "execution_count": 23,
   "id": "b36c4639",
   "metadata": {},
   "outputs": [
    {
     "data": {
      "text/plain": [
       "array([0, 0, 0, ..., 0, 0, 0])"
      ]
     },
     "execution_count": 23,
     "metadata": {},
     "output_type": "execute_result"
    }
   ],
   "source": [
    "action_mapped"
   ]
  },
  {
   "cell_type": "code",
   "execution_count": 24,
   "id": "dc245543",
   "metadata": {},
   "outputs": [
    {
     "data": {
      "text/plain": [
       "array([0.5, 0. , 0. , 0. , 0. , 0. , 0. , 0. , 0. ])"
      ]
     },
     "execution_count": 24,
     "metadata": {},
     "output_type": "execute_result"
    }
   ],
   "source": [
    "R[-3,27]"
   ]
  },
  {
   "cell_type": "code",
   "execution_count": 15,
   "id": "4503884c",
   "metadata": {},
   "outputs": [
    {
     "data": {
      "text/plain": [
       "(1017, 81, 9)"
      ]
     },
     "execution_count": 15,
     "metadata": {},
     "output_type": "execute_result"
    }
   ],
   "source": [
    "self.R[mask01][state_mapped[mask01]][action_mapped[mask01]].shape"
   ]
  },
  {
   "cell_type": "code",
   "execution_count": 28,
   "id": "130ad863",
   "metadata": {
    "scrolled": true
   },
   "outputs": [],
   "source": [
    "mask_t = np.zeros((self.bs, self.meta_size**2, self.meta_size), dtype=bool)\n",
    "mask_t[np.arange(bs), state_mapped , action_mapped] = True\n",
    "self.R[mask_t] += 5"
   ]
  },
  {
   "cell_type": "code",
   "execution_count": 30,
   "id": "b4b282bf",
   "metadata": {},
   "outputs": [
    {
     "data": {
      "text/plain": [
       "array([5., 0., 0., 0., 0., 0., 0., 0., 0.])"
      ]
     },
     "execution_count": 30,
     "metadata": {},
     "output_type": "execute_result"
    }
   ],
   "source": [
    "self.R[0][9]"
   ]
  },
  {
   "cell_type": "code",
   "execution_count": 31,
   "id": "279b4e9c",
   "metadata": {},
   "outputs": [
    {
     "data": {
      "text/plain": [
       "(1028,)"
      ]
     },
     "execution_count": 31,
     "metadata": {},
     "output_type": "execute_result"
    }
   ],
   "source": [
    "mask00.shape\n"
   ]
  },
  {
   "cell_type": "code",
   "execution_count": null,
   "id": "205f5e6c",
   "metadata": {},
   "outputs": [],
   "source": [
    "# Open a file and use dump()\n",
    "with open('plot_rew' + str(datetime.now()) + '.pkl', 'wb') as file:\n",
    "      \n",
    "    # A new file will be created\n",
    "    pickle.dump(plot_rew, file)\n",
    "    \n",
    "# Open a file and use dump()\n",
    "with open('memory' + str(datetime.now()) + '.pkl', 'wb') as file:\n",
    "      \n",
    "    # A new file will be created\n",
    "    pickle.dump(memory, file)\n",
    "\n",
    "# Open a file and use dump()\n",
    "with open('rmax' + str(datetime.now()) + '.pkl', 'wb') as file:\n",
    "      \n",
    "    # A new file will be created\n",
    "    pickle.dump(rmax, file)"
   ]
  },
  {
   "cell_type": "markdown",
   "id": "05a337d9",
   "metadata": {},
   "source": [
    "# Plots"
   ]
  },
  {
   "cell_type": "code",
   "execution_count": 13,
   "id": "46f78211",
   "metadata": {},
   "outputs": [
    {
     "data": {
      "image/png": "[encoded data removed]",
      "text/plain": [
       "<Figure size 1000x800 with 1 Axes>"
      ]
     },
     "metadata": {},
     "output_type": "display_data"
    }
   ],
   "source": [
    "#generate histogram\n",
    "visit_dict = {}\n",
    "for i in range(len(rmax.nSA.flatten().tolist())):\n",
    "    visit_dict[i]= rmax.nSA.flatten().tolist()[i]\n",
    "    \n",
    "histogram_dict = Counter(visit_dict.values())\n",
    "plt.bar(histogram_dict.keys(), histogram_dict.values(), 0.5, color='g')\n",
    "plt.xlabel(\"visitation counts: \" + str(histogram_dict), fontsize=12)\n",
    "figure0 = plt.gcf()\n",
    "figure0.set_size_inches(10, 8)\n",
    "plt.savefig('histogram at' + str(datetime.now()) + '.png')"
   ]
  },
  {
   "cell_type": "code",
   "execution_count": 14,
   "id": "7facf934",
   "metadata": {},
   "outputs": [
    {
     "data": {
      "text/plain": [
       "<Figure size 1000x800 with 0 Axes>"
      ]
     },
     "metadata": {},
     "output_type": "display_data"
    }
   ],
   "source": [
    "#generate reward mean\n",
    "plot_rew_mean = torch.mean(plot_rew[:,:,0],1)\n",
    "fig_handle = plt.plot(plot_rew_mean.cpu().numpy())\n",
    "\n",
    "plt.xlabel(\"episodes \\n Average reward of our agent: \" + str(round(torch.mean(plot_rew[:,:,0],(0,1)).detach().item(), 3)) + \n",
    "          \"\\n Average reward of another agent: \" + str(round(torch.mean(plot_rew[:,:,1],(0,1)).detach().item(), 3)))\n",
    "\n",
    "plt.ylabel(\"Mean rewards\")\n",
    "\n",
    "figure2 = plt.gcf() # get current figure\n",
    "figure2.set_size_inches(10, 8)\n",
    "\n",
    "plt.savefig('inner_gamma' + str(inner_gamma) + '_rad' + str(radius) + '_' + str(meta_epi) + '_' + str(meta_steps) + '_mp1.png'  , dpi = 100)\n",
    "plt.clf()\n"
   ]
  },
  {
   "cell_type": "code",
   "execution_count": 15,
   "id": "ac1eb558",
   "metadata": {},
   "outputs": [
    {
     "data": {
      "text/plain": [
       "<Figure size 1000x800 with 0 Axes>"
      ]
     },
     "metadata": {},
     "output_type": "display_data"
    }
   ],
   "source": [
    "#generate learning curve at start\n",
    "plot_rew_epi_start = torch.mean(plot_rew[:int(meta_epi*0.1), :, 0], 0)\n",
    "fig_handle = plt.plot(plot_rew_epi_start.cpu().numpy())\n",
    "\n",
    "plt.xlabel(\"steps\")\n",
    "\n",
    "plt.ylabel(\"Average learning rate of first \" + str(int(meta_epi*0.1)) + \" episodes\")\n",
    "\n",
    "figure3 = plt.gcf() # get current figure\n",
    "figure3.set_size_inches(10, 8)\n",
    "\n",
    "plt.savefig('inner_gamma' + str(inner_gamma) + '_rad' + str(radius) + '_' + str(meta_epi) + '_' + str(meta_steps) + '_first_epi_mp1.png' , dpi = 100)\n",
    "plt.clf()"
   ]
  },
  {
   "cell_type": "code",
   "execution_count": 16,
   "id": "7cd430b4",
   "metadata": {},
   "outputs": [
    {
     "data": {
      "text/plain": [
       "<Figure size 1000x800 with 0 Axes>"
      ]
     },
     "metadata": {},
     "output_type": "display_data"
    }
   ],
   "source": [
    "#generate learning curve at end\n",
    "plot_rew_epi_end = torch.mean(plot_rew[-int(meta_epi*0.1):, :, 0], 0)\n",
    "fig_handle = plt.plot(plot_rew_epi_end.cpu().numpy())\n",
    "\n",
    "plt.xlabel(\"steps\")\n",
    "\n",
    "plt.ylabel(\"Average learning rate of last \" + str(int(meta_epi*0.1)) + \" episodes\")\n",
    "\n",
    "figure4 = plt.gcf() # get current figure\n",
    "figure4.set_size_inches(10, 8)\n",
    "\n",
    "plt.savefig('inner_gamma' + str(inner_gamma) + '_rad' + str(radius) + '_' + str(meta_epi) + '_' + str(meta_steps) + '_last_epi_mp1.png' , dpi = 100)\n",
    "plt.clf()"
   ]
  },
  {
   "cell_type": "markdown",
   "id": "15965877",
   "metadata": {},
   "source": [
    "# Interpreting results "
   ]
  },
  {
   "cell_type": "code",
   "execution_count": null,
   "id": "b8e32364",
   "metadata": {},
   "outputs": [],
   "source": [
    "\n",
    "import glob\n",
    "path1 = \"memory*.pkl\"\n",
    "path2 = \"plot_rew*.pkl\"\n",
    "path3 = \"rmax*.pkl\"\n",
    "for filename in glob.glob(path1):\n",
    "    with open(filename, 'rb') as f:\n",
    "        memory = pickle.load(f)\n",
    "        \n",
    "for filename in glob.glob(path2):    \n",
    "    with open(filename, 'rb') as g:\n",
    "        plot_rew = pickle.load(g)\n",
    "        \n",
    "for filename in glob.glob(path3):    \n",
    "    with open(filename, 'rb') as g:\n",
    "        rmax = pickle.load(g)        "
   ]
  }
 ],
 "metadata": {
  "kernelspec": {
   "display_name": "kittymfos",
   "language": "python",
   "name": "kittymfos"
  },
  "language_info": {
   "codemirror_mode": {
    "name": "ipython",
    "version": 3
   },
   "file_extension": ".py",
   "mimetype": "text/x-python",
   "name": "python",
   "nbconvert_exporter": "python",
   "pygments_lexer": "ipython3",
   "version": "3.8.13"
  }
 },
 "nbformat": 4,
 "nbformat_minor": 5
}
