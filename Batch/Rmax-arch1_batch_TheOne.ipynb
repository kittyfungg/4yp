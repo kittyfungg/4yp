{
 "cells": [
  {
   "cell_type": "code",
   "execution_count": 1,
   "id": "e526821e",
   "metadata": {},
   "outputs": [
    {
     "data": {
      "text/html": [
       "<style>.container { width:100% !important; }</style>"
      ],
      "text/plain": [
       "<IPython.core.display.HTML object>"
      ]
     },
     "metadata": {},
     "output_type": "display_data"
    }
   ],
   "source": [
    "from IPython.display import display, HTML\n",
    "display(HTML(\"<style>.container { width:100% !important; }</style>\"))\n"
   ]
  },
  {
   "cell_type": "code",
   "execution_count": null,
   "id": "4723bfc5",
   "metadata": {},
   "outputs": [],
   "source": [
    "import matplotlib.pyplot as plt\n",
    "import numpy as np\n",
    "import math\n",
    "import scipy\n",
    "from scipy.special import softmax\n",
    "import random\n",
    "import pickle\n",
    "from datetime import datetime\n",
    "from collections import Counter\n",
    "\n",
    "from tqdm import tqdm\n",
    "\n",
    "import gym\n",
    "from gym.spaces import Discrete, Tuple\n",
    "\n",
    "from env_mp_simple import MetaGamesTheOne\n",
    "from rmax_1_batch_TheOne import RmaxAgent, Memory\n",
    "\n",
    "def discretize(number, radius):\n",
    "    #[0,3,5,4,8] --> [0,3,6,3,9] for radius 3\n",
    "    return np.round(np.divide(number, radius)) * radius\n",
    "\n",
    "def Boltzmann(arr):\n",
    "    #0.5 is just a temperature parameter, controls the spread of the softmax distribution\n",
    "    action_value = np.zeros(arr.shape[0])\n",
    "    prob = softmax(arr/0.4, 1)\n",
    "    for b in range(arr.shape[0]):\n",
    "        action_value[b] = np.random.choice(np.arange(arr.shape[1]), p=prob[b])\n",
    "    return action_value\n",
    "\n",
    "bs = 1\n",
    "inner_gamma = 0         #inner game discount factor, 0 since it's a one shot game\n",
    "meta_gamma = 0.95        #meta game discount factor\n",
    "\n",
    "R_max = 1.5\n",
    "rmax_error = 0.05\n",
    "meta_epi = 18000\n",
    "meta_steps = 5\n",
    "\n",
    "epsilon = 0.8\n",
    "step = 0.1"
   ]
  },
  {
   "cell_type": "code",
   "execution_count": null,
   "id": "81daceee",
   "metadata": {},
   "outputs": [],
   "source": [
    "#reward tensor for plotting purposes [bs, episode, step, agents]\n",
    "plot_rew = np.zeros((bs, meta_epi, meta_steps, 2))\n",
    "\n",
    "# creating environment\n",
    "env = MetaGamesTheOne(bs, step, meta_steps)\n",
    "\n",
    "# creating rmax agent\n",
    "memory = Memory()\n",
    "rmax = RmaxAgent(R_max, bs, meta_gamma, inner_gamma, step, epsilon, rmax_error)"
   ]
  },
  {
   "cell_type": "code",
   "execution_count": null,
   "id": "6de80323",
   "metadata": {},
   "outputs": [],
   "source": [
    "for episode in tqdm(range(meta_epi)): #for each meta-episode\n",
    "    print(\"round \" + str(episode))\n",
    "    #reset environment \n",
    "    #initialise meta-state and meta-action randomly\n",
    "    meta_s = env.reset()\n",
    "   \n",
    "    for step in range(meta_steps):    #for each meta time step\n",
    "        print(\"attempt \" + str(step))\n",
    "        #--------------------------------------START OF INNER GAME--------------------------------------  \n",
    "        #select our inner-action with Boltzmann sampling, oppo inner-action with epsilon greedy \n",
    "        our_action = np.zeros((bs), dtype=int)\n",
    "        for i in range(bs):\n",
    "            if env.done[i,0] == 0:    #if we didn't jump \n",
    "                our_action[i] = Boltzmann(rmax.Q[[i], rmax.find_meta_index(meta_s, \"s\").astype(int)[i], :])\n",
    "            else:\n",
    "                our_action[i] = 1\n",
    "        \n",
    "        #print(\"inner actions: \", our_action, oppo_action)\n",
    "        #run inner game according to actions\n",
    "        obs, reward, info, _ = env.step(our_action) \n",
    "        #---------------------------------------END OF INNER GAME--------------------------------------\n",
    "        #save reward, info for plotting              \n",
    "        plot_rew[:,episode,step,0] = reward\n",
    "        plot_rew[:,episode,step,1] = info\n",
    "\n",
    "        #meta-action = action that corresponds to max Q(meta_s) = our inner Q\n",
    "        meta_a = our_action\n",
    "\n",
    "        #meta-state = discretized inner game Q table of all agents\n",
    "        new_meta_s = obs\n",
    "\n",
    "        #meta-reward = sum of rewards of our agent in inner game of K episodes & T timesteps\n",
    "        our_REW = reward    \n",
    "        memory.rewards.append(our_REW)\n",
    "\n",
    "        #rmax update step\n",
    "        rmax.update(memory, meta_s, meta_a, new_meta_s)\n",
    "        \n",
    "        for b in range(rmax.bs):       #NEED THIS SO OUR Q WONT OVERFLOW\n",
    "            if (all(env.done[b]) == True) and reward <= 0.8:\n",
    "                rmax.R[b, rmax.find_meta_index(meta_s, \"s\").astype(int), rmax.find_meta_index(meta_a, \"a\").astype(int)] = 0\n",
    "                \n",
    "        #prepare meta_s for next step\n",
    "        meta_s = new_meta_s\n"
   ]
  },
  {
   "cell_type": "code",
   "execution_count": null,
   "id": "205f5e6c",
   "metadata": {},
   "outputs": [],
   "source": [
    "# # Open a file and use dump()\n",
    "# with open('plot_rew' + str(datetime.now()) + '.pkl', 'wb') as file:\n",
    "#     # A new file will be created\n",
    "#     pickle.dump(plot_rew, file)\n",
    "\n",
    "# # Open a file and use dump()\n",
    "# with open('rmax_nSA' + str(datetime.now()) + '.pkl', 'wb') as file:\n",
    "      \n",
    "#     # A new file will be created\n",
    "#     pickle.dump(rmax.nSA, file)"
   ]
  },
  {
   "cell_type": "markdown",
   "id": "05a337d9",
   "metadata": {},
   "source": [
    "# Plots"
   ]
  },
  {
   "cell_type": "code",
   "execution_count": 5,
   "id": "46f78211",
   "metadata": {},
   "outputs": [
    {
     "data": {
      "image/png": "[encoded data removed]",
      "text/plain": [
       "<Figure size 1000x800 with 1 Axes>"
      ]
     },
     "metadata": {},
     "output_type": "display_data"
    }
   ],
   "source": [
    "#generate histogram\n",
    "visit_dict = {}\n",
    "for i in range(len(rmax.nSA[0].flatten().tolist())):\n",
    "    visit_dict[i]= rmax.nSA[0].flatten().tolist()[i]\n",
    "    \n",
    "histogram_dict = Counter(visit_dict.values())\n",
    "plt.bar(histogram_dict.keys(), histogram_dict.values(), 0.5, color='g')\n",
    "plt.xlabel(\"visitation counts: \" + str(histogram_dict), fontsize=12)\n",
    "figure0 = plt.gcf()\n",
    "figure0.set_size_inches(10, 8)\n",
    "plt.savefig('histogram at' + str(datetime.now()) + '.png')"
   ]
  },
  {
   "cell_type": "code",
   "execution_count": null,
   "id": "47f2212b",
   "metadata": {},
   "outputs": [],
   "source": [
    "#generate heatmap\n",
    "plt.imshow(rmax.nSA[0], cmap='hot', interpolation='nearest')\n",
    "figure1 = plt.gcf()\n",
    "figure1.set_size_inches(50, 200)\n",
    "plt.savefig('heatmap for' + str(datetime.now()) + '.png')"
   ]
  },
  {
   "cell_type": "code",
   "execution_count": null,
   "id": "cc40e58c",
   "metadata": {},
   "outputs": [],
   "source": [
    "#generate MA(5) reward  of batch 0 \n",
    "a = plot_rew[0,:,-1,0]\n",
    "b = np.convolve(a, np.ones(300)/300, mode='valid')\n",
    "fig_handle = plt.plot(b)\n",
    "#reward at batch 0 only\n",
    "plt.xlabel(\"episodes \\n Average reward of our agent: \" + str(np.mean(plot_rew[0,:,-1,0])) + \n",
    "          \"\\n Average reward of another agent: \" + str(np.mean(plot_rew[0,:,-1,1]))+\n",
    "          \"\\n meta-episode= \"+ str(meta_epi) + \" meta_steps= \" + str(meta_steps) + \" meta_gamma= \" + str(meta_gamma) + \" step= \" + str(step)+\n",
    "          \"\\n % of visited states= \" + str((rmax.nSA >= rmax.m).sum() / (rmax.nSA.shape[1] * rmax.nSA.shape[2])))\n",
    "\n",
    "plt.ylabel(\"Mean rewards\")\n",
    "\n",
    "figure2 = plt.gcf() # get current figure\n",
    "figure2.set_size_inches(10, 8)\n",
    "plt.savefig('MAReward for' + str(datetime.now()) + '.png')"
   ]
  },
  {
   "cell_type": "markdown",
   "id": "15965877",
   "metadata": {},
   "source": [
    "# Interpreting results "
   ]
  },
  {
   "cell_type": "code",
   "execution_count": 4,
   "id": "b8e32364",
   "metadata": {},
   "outputs": [],
   "source": [
    "# import glob\n",
    "\n",
    "# path1 = \"plot_rew*.pkl\"\n",
    "# path2 = \"rmax*.pkl\"\n",
    "        \n",
    "# for filename in glob.glob(path1):    \n",
    "#     with open(filename, 'rb') as g:\n",
    "#         plot_rew = pickle.load(g)\n",
    "        \n",
    "# for filename in glob.glob(path2):    \n",
    "#     with open(filename, 'rb') as g:\n",
    "#         rmax = pickle.load(g)        "
   ]
  }
 ],
 "metadata": {
  "kernelspec": {
   "display_name": "kittymfos",
   "language": "python",
   "name": "kittymfos"
  },
  "language_info": {
   "codemirror_mode": {
    "name": "ipython",
    "version": 3
   },
   "file_extension": ".py",
   "mimetype": "text/x-python",
   "name": "python",
   "nbconvert_exporter": "python",
   "pygments_lexer": "ipython3",
   "version": "3.8.13"
  }
 },
 "nbformat": 4,
 "nbformat_minor": 5
}
